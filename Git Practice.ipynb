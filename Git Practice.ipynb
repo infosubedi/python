{
 "cells": [
  {
   "cell_type": "code",
   "execution_count": 1,
   "id": "23b9961c",
   "metadata": {},
   "outputs": [
    {
     "name": "stdout",
     "output_type": "stream",
     "text": [
      "0 is an even number \n",
      "1 is odd number \n",
      "2 is an even number \n",
      "3 is odd number \n",
      "4 is an even number \n",
      "5 is odd number \n",
      "6 is an even number \n",
      "7 is odd number \n",
      "8 is an even number \n",
      "9 is odd number \n"
     ]
    }
   ],
   "source": [
    "a=0\n",
    "while a<10:\n",
    "    if a%2==0:\n",
    "        print(f'{a} is an even number ')\n",
    "        a+=1\n",
    "    else:\n",
    "        print \n",
    "        print(f'{a} is odd number ')\n",
    "        a+=1"
   ]
  },
  {
   "cell_type": "code",
   "execution_count": null,
   "id": "475b075a",
   "metadata": {},
   "outputs": [],
   "source": [
    "! git"
   ]
  }
 ],
 "metadata": {
  "kernelspec": {
   "display_name": "Python 3 (ipykernel)",
   "language": "python",
   "name": "python3"
  },
  "language_info": {
   "codemirror_mode": {
    "name": "ipython",
    "version": 3
   },
   "file_extension": ".py",
   "mimetype": "text/x-python",
   "name": "python",
   "nbconvert_exporter": "python",
   "pygments_lexer": "ipython3",
   "version": "3.10.9"
  }
 },
 "nbformat": 4,
 "nbformat_minor": 5
}
