{
 "cells": [
  {
   "cell_type": "code",
   "execution_count": 1,
   "id": "8ae62f0d",
   "metadata": {},
   "outputs": [
    {
     "name": "stdout",
     "output_type": "stream",
     "text": [
      "0 is an even number \n",
      "1 is odd number \n",
      "2 is an even number \n",
      "3 is odd number \n",
      "4 is an even number \n",
      "5 is odd number \n",
      "6 is an even number \n",
      "7 is odd number \n",
      "8 is an even number \n",
      "9 is odd number \n"
     ]
    }
   ],
   "source": [
    "a=0\n",
    "while a<10:\n",
    "    if a%2==0:\n",
    "        print(f'{a} is an even number ')\n",
    "        a+=1\n",
    "    else:\n",
    "        print \n",
    "        print(f'{a} is odd number ')\n",
    "        a+=1"
   ]
  },
  {
   "cell_type": "code",
   "execution_count": 2,
   "id": "ab587c9c",
   "metadata": {},
   "outputs": [
    {
     "name": "stderr",
     "output_type": "stream",
     "text": [
      "warning: in the working copy of '.ipynb_checkpoints/Git Practice-checkpoint.ipynb', LF will be replaced by CRLF the next time Git touches it\n",
      "warning: in the working copy of 'Git Practice.ipynb', LF will be replaced by CRLF the next time Git touches it\n"
     ]
    }
   ],
   "source": [
    "! git add ."
   ]
  },
  {
   "cell_type": "code",
   "execution_count": 3,
   "id": "774280a9",
   "metadata": {},
   "outputs": [
    {
     "name": "stdout",
     "output_type": "stream",
     "text": [
      "[main 2bced58] Added New File\n",
      " 2 files changed, 76 insertions(+)\n",
      " create mode 100644 .ipynb_checkpoints/Git Practice-checkpoint.ipynb\n",
      " create mode 100644 Git Practice.ipynb\n"
     ]
    }
   ],
   "source": [
    "! git commit -m \"Added New File\""
   ]
  },
  {
   "cell_type": "code",
   "execution_count": 4,
   "id": "bceca70e",
   "metadata": {
    "scrolled": true
   },
   "outputs": [
    {
     "ename": "SyntaxError",
     "evalue": "invalid syntax (4238376967.py, line 1)",
     "output_type": "error",
     "traceback": [
      "\u001b[1;36m  Cell \u001b[1;32mIn[4], line 1\u001b[1;36m\u001b[0m\n\u001b[1;33m    git push\u001b[0m\n\u001b[1;37m        ^\u001b[0m\n\u001b[1;31mSyntaxError\u001b[0m\u001b[1;31m:\u001b[0m invalid syntax\n"
     ]
    }
   ],
   "source": [
    "git push"
   ]
  },
  {
   "cell_type": "code",
   "execution_count": 5,
   "id": "5366c702",
   "metadata": {},
   "outputs": [
    {
     "name": "stdout",
     "output_type": "stream",
     "text": [
      "branch 'main' set up to track 'origin/main'.\n"
     ]
    },
    {
     "name": "stderr",
     "output_type": "stream",
     "text": [
      "To https://github.com/infosubedi/python.git\n",
      "   88fb797..2bced58  main -> main\n"
     ]
    }
   ],
   "source": [
    "! git push -u origin"
   ]
  },
  {
   "cell_type": "code",
   "execution_count": 6,
   "id": "22ab98d4",
   "metadata": {},
   "outputs": [
    {
     "name": "stdout",
     "output_type": "stream",
     "text": [
      "On branch main\n",
      "Your branch is up to date with 'origin/main'.\n",
      "\n",
      "Changes not staged for commit:\n",
      "  (use \"git add <file>...\" to update what will be committed)\n",
      "  (use \"git restore <file>...\" to discard changes in working directory)\n",
      "\tmodified:   Git Practice.ipynb\n",
      "\n",
      "no changes added to commit (use \"git add\" and/or \"git commit -a\")\n"
     ]
    }
   ],
   "source": [
    "! git status"
   ]
  },
  {
   "cell_type": "code",
   "execution_count": null,
   "id": "9f55eb4c",
   "metadata": {},
   "outputs": [],
   "source": [
    "a=0\n",
    "while a<10:\n",
    "    if a%2==0:\n",
    "        print(f'{a} is an even number ')\n",
    "        a+=1\n",
    "    else:\n",
    "        print \n",
    "        print(f'{a} is odd number ')\n",
    "        a+=1"
   ]
  }
 ],
 "metadata": {
  "kernelspec": {
   "display_name": "Python 3 (ipykernel)",
   "language": "python",
   "name": "python3"
  },
  "language_info": {
   "codemirror_mode": {
    "name": "ipython",
    "version": 3
   },
   "file_extension": ".py",
   "mimetype": "text/x-python",
   "name": "python",
   "nbconvert_exporter": "python",
   "pygments_lexer": "ipython3",
   "version": "3.10.9"
  }
 },
 "nbformat": 4,
 "nbformat_minor": 5
}
