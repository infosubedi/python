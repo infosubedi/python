{
 "cells": [
  {
   "cell_type": "markdown",
   "id": "551816fc",
   "metadata": {},
   "source": [
    "# Dictionary"
   ]
  },
  {
   "cell_type": "code",
   "execution_count": null,
   "id": "31330831",
   "metadata": {},
   "outputs": [],
   "source": [
    "dict_age={\n",
    "    'Ramesh':43, 'Ram':34, 'Sita':55, 'Sujata':26, 'Pradip':31\n",
    "}"
   ]
  },
  {
   "cell_type": "code",
   "execution_count": null,
   "id": "284125b9",
   "metadata": {},
   "outputs": [],
   "source": [
    "type(dict_age)"
   ]
  },
  {
   "cell_type": "code",
   "execution_count": null,
   "id": "eb228554",
   "metadata": {},
   "outputs": [],
   "source": [
    "dict_age"
   ]
  },
  {
   "cell_type": "code",
   "execution_count": null,
   "id": "9d9d0849",
   "metadata": {},
   "outputs": [],
   "source": [
    "dict_age={\n",
    "    'Sita':43, 'Ram':34, 'Sita':55, 'Sujata':26, 'Pradip':31\n",
    "}"
   ]
  },
  {
   "cell_type": "code",
   "execution_count": null,
   "id": "2d1ac5fd",
   "metadata": {},
   "outputs": [],
   "source": [
    "dict_age"
   ]
  },
  {
   "cell_type": "code",
   "execution_count": null,
   "id": "2c77049a",
   "metadata": {},
   "outputs": [],
   "source": [
    "#item_accessed\n",
    "dict_age['Ram']"
   ]
  },
  {
   "cell_type": "code",
   "execution_count": null,
   "id": "041cec8d",
   "metadata": {},
   "outputs": [],
   "source": [
    "dict_age['Sujata']"
   ]
  },
  {
   "cell_type": "code",
   "execution_count": null,
   "id": "ceb9492f",
   "metadata": {},
   "outputs": [],
   "source": [
    "len(dict_age)"
   ]
  },
  {
   "cell_type": "code",
   "execution_count": null,
   "id": "af11efc7",
   "metadata": {},
   "outputs": [],
   "source": [
    "dict_age_new={\n",
    "    'Sita':43.00, 'Ram':True, 'Sita':55.93, 'Sujata':26, 'Pradip':31\n",
    "}"
   ]
  },
  {
   "cell_type": "code",
   "execution_count": null,
   "id": "c8df71f2",
   "metadata": {},
   "outputs": [],
   "source": [
    "print(dict_age_new)"
   ]
  },
  {
   "cell_type": "code",
   "execution_count": null,
   "id": "11461eff",
   "metadata": {},
   "outputs": [],
   "source": [
    "#another way to create dictionary\n",
    "dict_new=dict(Ram=True, Sita=43, Hari=93)"
   ]
  },
  {
   "cell_type": "code",
   "execution_count": null,
   "id": "15606a50",
   "metadata": {},
   "outputs": [],
   "source": [
    "print(dict_new)"
   ]
  },
  {
   "cell_type": "code",
   "execution_count": null,
   "id": "5969d2d2",
   "metadata": {},
   "outputs": [],
   "source": [
    "#Item Access\n",
    "dict_new['Ram']"
   ]
  },
  {
   "cell_type": "code",
   "execution_count": null,
   "id": "4025eecf",
   "metadata": {},
   "outputs": [],
   "source": [
    "# another way to access item\n",
    "dict_new.get('Hari')"
   ]
  },
  {
   "cell_type": "code",
   "execution_count": null,
   "id": "f9573571",
   "metadata": {},
   "outputs": [],
   "source": [
    "dict_new.keys()"
   ]
  },
  {
   "cell_type": "code",
   "execution_count": null,
   "id": "ccfba1b6",
   "metadata": {},
   "outputs": [],
   "source": [
    "#Items Changeable\n",
    "dict_new['Hari']=1000"
   ]
  },
  {
   "cell_type": "code",
   "execution_count": null,
   "id": "06888955",
   "metadata": {},
   "outputs": [],
   "source": [
    "dict_new"
   ]
  },
  {
   "cell_type": "code",
   "execution_count": null,
   "id": "346c3358",
   "metadata": {},
   "outputs": [],
   "source": [
    "#another way to change values\n",
    "dict_new.update({'Sita':134})"
   ]
  },
  {
   "cell_type": "code",
   "execution_count": null,
   "id": "1ab19976",
   "metadata": {},
   "outputs": [],
   "source": [
    "dict_new.update({'Sanjay':45})"
   ]
  },
  {
   "cell_type": "code",
   "execution_count": null,
   "id": "d090fd78",
   "metadata": {},
   "outputs": [],
   "source": [
    "dict_new"
   ]
  },
  {
   "cell_type": "code",
   "execution_count": null,
   "id": "25005295",
   "metadata": {},
   "outputs": [],
   "source": [
    "#Remove Items\n",
    "dict_new.pop('Ram')"
   ]
  },
  {
   "cell_type": "code",
   "execution_count": null,
   "id": "c305a8b8",
   "metadata": {},
   "outputs": [],
   "source": [
    "dict_new"
   ]
  },
  {
   "cell_type": "code",
   "execution_count": null,
   "id": "bc523c07",
   "metadata": {},
   "outputs": [],
   "source": [
    "dict_new.popitem()"
   ]
  },
  {
   "cell_type": "code",
   "execution_count": null,
   "id": "2a376492",
   "metadata": {},
   "outputs": [],
   "source": [
    "dict_new"
   ]
  },
  {
   "cell_type": "code",
   "execution_count": null,
   "id": "14403532",
   "metadata": {},
   "outputs": [],
   "source": [
    "dict_new.update({'Hareram':45})"
   ]
  },
  {
   "cell_type": "code",
   "execution_count": null,
   "id": "c499a695",
   "metadata": {},
   "outputs": [],
   "source": [
    "dict_new"
   ]
  },
  {
   "cell_type": "code",
   "execution_count": null,
   "id": "1448bf08",
   "metadata": {},
   "outputs": [],
   "source": [
    "dict_new.update({'Hareram':44})"
   ]
  },
  {
   "cell_type": "code",
   "execution_count": null,
   "id": "24337c41",
   "metadata": {},
   "outputs": [],
   "source": [
    "dict_new"
   ]
  },
  {
   "cell_type": "code",
   "execution_count": null,
   "id": "8b4a83c6",
   "metadata": {},
   "outputs": [],
   "source": [
    "#Looping in Dictionary\n",
    "for i in dict_new:\n",
    "    print (i)"
   ]
  },
  {
   "cell_type": "code",
   "execution_count": null,
   "id": "b488738b",
   "metadata": {},
   "outputs": [],
   "source": [
    "for i in dict_new.values():\n",
    "    print (i)"
   ]
  },
  {
   "cell_type": "code",
   "execution_count": null,
   "id": "76bb7f11",
   "metadata": {},
   "outputs": [],
   "source": [
    "for x, y in dict_new.items():\n",
    "    print(f'The marks of students {x} is {y}')"
   ]
  },
  {
   "cell_type": "code",
   "execution_count": null,
   "id": "8fcd3661",
   "metadata": {},
   "outputs": [],
   "source": [
    "#copying\n",
    "dict_copy=dict_new"
   ]
  },
  {
   "cell_type": "code",
   "execution_count": null,
   "id": "7910080f",
   "metadata": {},
   "outputs": [],
   "source": [
    "dict_new"
   ]
  },
  {
   "cell_type": "code",
   "execution_count": null,
   "id": "6753a42f",
   "metadata": {},
   "outputs": [],
   "source": [
    "#copy\n",
    "dict_copy_new=dict_new.copy()"
   ]
  },
  {
   "cell_type": "code",
   "execution_count": null,
   "id": "0a427519",
   "metadata": {},
   "outputs": [],
   "source": [
    "dict_copy_new"
   ]
  },
  {
   "cell_type": "code",
   "execution_count": null,
   "id": "9600f97b",
   "metadata": {},
   "outputs": [],
   "source": [
    "dict_new.popitem()"
   ]
  },
  {
   "cell_type": "code",
   "execution_count": null,
   "id": "6ebe3cf3",
   "metadata": {},
   "outputs": [],
   "source": [
    "dict_new"
   ]
  },
  {
   "cell_type": "code",
   "execution_count": null,
   "id": "c4344ef1",
   "metadata": {},
   "outputs": [],
   "source": [
    "dict_copy_new"
   ]
  },
  {
   "cell_type": "code",
   "execution_count": null,
   "id": "267b2041",
   "metadata": {},
   "outputs": [],
   "source": []
  },
  {
   "cell_type": "code",
   "execution_count": null,
   "id": "cf1c3b70",
   "metadata": {},
   "outputs": [],
   "source": []
  },
  {
   "cell_type": "code",
   "execution_count": null,
   "id": "3aeeaa7e",
   "metadata": {},
   "outputs": [],
   "source": []
  },
  {
   "cell_type": "markdown",
   "id": "86f3e1a4",
   "metadata": {},
   "source": [
    "# Nested List"
   ]
  },
  {
   "cell_type": "code",
   "execution_count": null,
   "id": "696029db",
   "metadata": {},
   "outputs": [],
   "source": [
    "a=[45,'ram',True]"
   ]
  },
  {
   "cell_type": "code",
   "execution_count": null,
   "id": "c207765b",
   "metadata": {},
   "outputs": [],
   "source": [
    "type(a)"
   ]
  },
  {
   "cell_type": "code",
   "execution_count": null,
   "id": "e8987e13",
   "metadata": {},
   "outputs": [],
   "source": [
    "len(a)"
   ]
  },
  {
   "cell_type": "code",
   "execution_count": null,
   "id": "be172c89",
   "metadata": {},
   "outputs": [],
   "source": [
    "b=[45,['ram','hari'],['Tree',6000]]"
   ]
  },
  {
   "cell_type": "code",
   "execution_count": null,
   "id": "3a318af8",
   "metadata": {},
   "outputs": [],
   "source": [
    "b"
   ]
  },
  {
   "cell_type": "code",
   "execution_count": null,
   "id": "794e7e33",
   "metadata": {},
   "outputs": [],
   "source": [
    "len(b)"
   ]
  },
  {
   "cell_type": "code",
   "execution_count": null,
   "id": "399dbf47",
   "metadata": {},
   "outputs": [],
   "source": [
    "b[1]"
   ]
  },
  {
   "cell_type": "code",
   "execution_count": null,
   "id": "3331cdaf",
   "metadata": {},
   "outputs": [],
   "source": [
    "b[1][1]"
   ]
  },
  {
   "cell_type": "code",
   "execution_count": null,
   "id": "79b0641a",
   "metadata": {},
   "outputs": [],
   "source": [
    "b[1][0]"
   ]
  },
  {
   "cell_type": "code",
   "execution_count": null,
   "id": "d458455a",
   "metadata": {},
   "outputs": [],
   "source": [
    "d=tuple(a)"
   ]
  },
  {
   "cell_type": "code",
   "execution_count": null,
   "id": "16b84cef",
   "metadata": {},
   "outputs": [],
   "source": [
    "type(d)"
   ]
  },
  {
   "cell_type": "code",
   "execution_count": null,
   "id": "9dac1cc4",
   "metadata": {},
   "outputs": [],
   "source": [
    "c=(45,('h',4),('g',4,5))"
   ]
  },
  {
   "cell_type": "code",
   "execution_count": null,
   "id": "3f1b4c82",
   "metadata": {},
   "outputs": [],
   "source": [
    "c[0]"
   ]
  },
  {
   "cell_type": "code",
   "execution_count": null,
   "id": "31d2bb55",
   "metadata": {},
   "outputs": [],
   "source": [
    "c[1][1]"
   ]
  },
  {
   "cell_type": "code",
   "execution_count": null,
   "id": "3502d76a",
   "metadata": {},
   "outputs": [],
   "source": [
    "c[1][0]"
   ]
  },
  {
   "cell_type": "code",
   "execution_count": null,
   "id": "57b4fa5c",
   "metadata": {},
   "outputs": [],
   "source": [
    "#Dictionary\n",
    "stu={'udit':{'AI':50, 'Cyber':56},'pradip':True}"
   ]
  },
  {
   "cell_type": "code",
   "execution_count": null,
   "id": "1fcc20b7",
   "metadata": {},
   "outputs": [],
   "source": [
    "stu"
   ]
  },
  {
   "cell_type": "markdown",
   "id": "8fbf88d2",
   "metadata": {},
   "source": [
    "# PYTHON CONDITIONs_Loops_Function"
   ]
  },
  {
   "cell_type": "markdown",
   "id": "0e07d1fc",
   "metadata": {},
   "source": [
    "# Conditions"
   ]
  },
  {
   "cell_type": "code",
   "execution_count": null,
   "id": "a9cb7388",
   "metadata": {},
   "outputs": [],
   "source": [
    "rain=False\n",
    "\n",
    "if rain==True:\n",
    "    print('Please Take Umbrella')\n",
    "else:\n",
    "    print('Go')"
   ]
  },
  {
   "cell_type": "code",
   "execution_count": null,
   "id": "dd79bb7d",
   "metadata": {},
   "outputs": [],
   "source": [
    "marks=input('Enter the marks')\n",
    "if marks>90:\n",
    "    print(\"You have got Grade A\")\n",
    "else:\n",
    "    print(\"You have got Grade B+\")"
   ]
  },
  {
   "cell_type": "code",
   "execution_count": null,
   "id": "fa7dc4ce",
   "metadata": {},
   "outputs": [],
   "source": [
    "marks=int(input('Enter your marks'))\n",
    "if marks>90:\n",
    "    print('You have got grade A+')\n",
    "elif marks>80:\n",
    "    print('You have got grade A')\n",
    "elif marks>70:\n",
    "    print('You have got grade B+')\n",
    "elif marks>60:\n",
    "    print('You have got grade B')\n",
    "elif marks>55:\n",
    "    print('You have got grade C+')\n",
    "elif marks>50:\n",
    "    print('You have got grade C')\n",
    "else:\n",
    "    print('You fail')"
   ]
  },
  {
   "cell_type": "code",
   "execution_count": null,
   "id": "e2552b75",
   "metadata": {},
   "outputs": [],
   "source": [
    "type(marks)"
   ]
  },
  {
   "cell_type": "code",
   "execution_count": null,
   "id": "5dd82fe4",
   "metadata": {},
   "outputs": [],
   "source": [
    "a=int(input('Enter the first number'))\n",
    "b=int(input('Enter the second number'))\n",
    "c=a+b\n",
    "print('Sum of the value',c)"
   ]
  },
  {
   "cell_type": "code",
   "execution_count": 10,
   "id": "4ce584b6",
   "metadata": {},
   "outputs": [
    {
     "name": "stdout",
     "output_type": "stream",
     "text": [
      "Enter your choice:\n",
      "Add \n",
      "Subtract \n",
      "Multiply \n",
      "Divide \n",
      "/\n",
      "Enter the first number: 10\n",
      "Enter the second number: 2\n",
      "Divide of two numbers 5.0\n"
     ]
    }
   ],
   "source": [
    "a=input('Enter your choice:\\nAdd \\nSubtract \\nMultiply \\nDivide \\n').lower()\n",
    "a_input=int(input('Enter the first number: '))\n",
    "b_input=int(input('Enter the second number: '))\n",
    "if a=='Add' or a=='+':\n",
    "    c=a_input+b_input\n",
    "    print('Sum of two numbers',c)\n",
    "elif a=='Subtract' or a=='-':\n",
    "    c=a_input-b_input\n",
    "    print('Subtract of two numbers',c)\n",
    "elif a=='Divide' or a=='/':\n",
    "    c=a_input/b_input\n",
    "    print('Divide of two numbers',c)\n",
    "elif a=='Multiply' or a=='*':\n",
    "    c=a_input*b_input\n",
    "    print('Multiply of two numbers',c)\n",
    "else:\n",
    "    print('Wrong Choice')"
   ]
  },
  {
   "cell_type": "code",
   "execution_count": null,
   "id": "afc956ce",
   "metadata": {},
   "outputs": [],
   "source": []
  },
  {
   "cell_type": "code",
   "execution_count": null,
   "id": "5cc596e6",
   "metadata": {},
   "outputs": [],
   "source": []
  },
  {
   "cell_type": "code",
   "execution_count": null,
   "id": "ae0591df",
   "metadata": {},
   "outputs": [],
   "source": []
  }
 ],
 "metadata": {
  "kernelspec": {
   "display_name": "Python 3 (ipykernel)",
   "language": "python",
   "name": "python3"
  },
  "language_info": {
   "codemirror_mode": {
    "name": "ipython",
    "version": 3
   },
   "file_extension": ".py",
   "mimetype": "text/x-python",
   "name": "python",
   "nbconvert_exporter": "python",
   "pygments_lexer": "ipython3",
   "version": "3.10.9"
  }
 },
 "nbformat": 4,
 "nbformat_minor": 5
}
