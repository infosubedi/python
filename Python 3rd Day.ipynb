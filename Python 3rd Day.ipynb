{
 "cells": [
  {
   "cell_type": "code",
   "execution_count": 1,
   "id": "5444108c",
   "metadata": {},
   "outputs": [],
   "source": [
    "name='hello world'"
   ]
  },
  {
   "cell_type": "code",
   "execution_count": 2,
   "id": "da084436",
   "metadata": {},
   "outputs": [
    {
     "data": {
      "text/plain": [
       "str"
      ]
     },
     "execution_count": 2,
     "metadata": {},
     "output_type": "execute_result"
    }
   ],
   "source": [
    "type(name)"
   ]
  },
  {
   "cell_type": "markdown",
   "id": "aa1efd18",
   "metadata": {},
   "source": [
    "#MODIFY STRING"
   ]
  },
  {
   "cell_type": "code",
   "execution_count": 3,
   "id": "dc9c193d",
   "metadata": {},
   "outputs": [],
   "source": [
    "profile='  I live in Chitwan and I am working as IT  '"
   ]
  },
  {
   "cell_type": "code",
   "execution_count": 4,
   "id": "da2ff113",
   "metadata": {},
   "outputs": [
    {
     "name": "stdout",
     "output_type": "stream",
     "text": [
      "I live in Chitwan and I am working as IT\n"
     ]
    }
   ],
   "source": [
    "print(profile)"
   ]
  },
  {
   "cell_type": "code",
   "execution_count": 5,
   "id": "1e3c42cc",
   "metadata": {},
   "outputs": [
    {
     "ename": "NameError",
     "evalue": "name 'a' is not defined",
     "output_type": "error",
     "traceback": [
      "\u001b[1;31m---------------------------------------------------------------------------\u001b[0m",
      "\u001b[1;31mNameError\u001b[0m                                 Traceback (most recent call last)",
      "Cell \u001b[1;32mIn[5], line 1\u001b[0m\n\u001b[1;32m----> 1\u001b[0m \u001b[43ma\u001b[49m\u001b[38;5;241m.\u001b[39mupper()\n",
      "\u001b[1;31mNameError\u001b[0m: name 'a' is not defined"
     ]
    }
   ],
   "source": [
    "a.upper()"
   ]
  },
  {
   "cell_type": "code",
   "execution_count": 6,
   "id": "0da7579e",
   "metadata": {},
   "outputs": [
    {
     "data": {
      "text/plain": [
       "'I LIVE IN CHITWAN AND I AM WORKING AS IT'"
      ]
     },
     "execution_count": 6,
     "metadata": {},
     "output_type": "execute_result"
    }
   ],
   "source": [
    "profile.upper()"
   ]
  },
  {
   "cell_type": "code",
   "execution_count": 7,
   "id": "3718be15",
   "metadata": {},
   "outputs": [
    {
     "data": {
      "text/plain": [
       "'i live in chitwan and i am working as it'"
      ]
     },
     "execution_count": 7,
     "metadata": {},
     "output_type": "execute_result"
    }
   ],
   "source": [
    "profile.lower()"
   ]
  },
  {
   "cell_type": "code",
   "execution_count": 8,
   "id": "220ac70f",
   "metadata": {},
   "outputs": [
    {
     "ename": "NameError",
     "evalue": "name 'lower' is not defined",
     "output_type": "error",
     "traceback": [
      "\u001b[1;31m---------------------------------------------------------------------------\u001b[0m",
      "\u001b[1;31mNameError\u001b[0m                                 Traceback (most recent call last)",
      "Cell \u001b[1;32mIn[8], line 1\u001b[0m\n\u001b[1;32m----> 1\u001b[0m \u001b[43mlower\u001b[49m(profile)\n",
      "\u001b[1;31mNameError\u001b[0m: name 'lower' is not defined"
     ]
    }
   ],
   "source": [
    "lower(profile)"
   ]
  },
  {
   "cell_type": "code",
   "execution_count": null,
   "id": "5353120b",
   "metadata": {},
   "outputs": [],
   "source": []
  },
  {
   "cell_type": "code",
   "execution_count": 9,
   "id": "1c6c6d07",
   "metadata": {},
   "outputs": [
    {
     "ename": "SyntaxError",
     "evalue": "expected ':' (3707226838.py, line 1)",
     "output_type": "error",
     "traceback": [
      "\u001b[1;36m  Cell \u001b[1;32mIn[9], line 1\u001b[1;36m\u001b[0m\n\u001b[1;33m    def lower(x)\u001b[0m\n\u001b[1;37m                ^\u001b[0m\n\u001b[1;31mSyntaxError\u001b[0m\u001b[1;31m:\u001b[0m expected ':'\n"
     ]
    }
   ],
   "source": [
    "def lower(x)"
   ]
  },
  {
   "cell_type": "code",
   "execution_count": 10,
   "id": "f277b848",
   "metadata": {},
   "outputs": [
    {
     "ename": "SyntaxError",
     "evalue": "incomplete input (3620932196.py, line 2)",
     "output_type": "error",
     "traceback": [
      "\u001b[1;36m  Cell \u001b[1;32mIn[10], line 2\u001b[1;36m\u001b[0m\n\u001b[1;33m    \u001b[0m\n\u001b[1;37m    ^\u001b[0m\n\u001b[1;31mSyntaxError\u001b[0m\u001b[1;31m:\u001b[0m incomplete input\n"
     ]
    }
   ],
   "source": [
    "def lower(x):\n"
   ]
  },
  {
   "cell_type": "code",
   "execution_count": 11,
   "id": "a369da6a",
   "metadata": {},
   "outputs": [
    {
     "ename": "NameError",
     "evalue": "name 'a' is not defined",
     "output_type": "error",
     "traceback": [
      "\u001b[1;31m---------------------------------------------------------------------------\u001b[0m",
      "\u001b[1;31mNameError\u001b[0m                                 Traceback (most recent call last)",
      "Cell \u001b[1;32mIn[11], line 1\u001b[0m\n\u001b[1;32m----> 1\u001b[0m \u001b[43ma\u001b[49m\u001b[38;5;241m.\u001b[39mstrip()\n",
      "\u001b[1;31mNameError\u001b[0m: name 'a' is not defined"
     ]
    }
   ],
   "source": [
    "a.strip()"
   ]
  },
  {
   "cell_type": "code",
   "execution_count": 12,
   "id": "dc4e561b",
   "metadata": {},
   "outputs": [
    {
     "data": {
      "text/plain": [
       "'I live in Chitwan and I am working as IT'"
      ]
     },
     "execution_count": 12,
     "metadata": {},
     "output_type": "execute_result"
    }
   ],
   "source": [
    "profile.strip()"
   ]
  },
  {
   "cell_type": "code",
   "execution_count": 13,
   "id": "24b44729",
   "metadata": {},
   "outputs": [
    {
     "data": {
      "text/plain": [
       "'I live in Gaindakot and I am working as IT'"
      ]
     },
     "execution_count": 13,
     "metadata": {},
     "output_type": "execute_result"
    }
   ],
   "source": [
    "profile.replace('Chitwan', 'Gaindakot')"
   ]
  },
  {
   "cell_type": "code",
   "execution_count": 14,
   "id": "c97d7d05",
   "metadata": {},
   "outputs": [
    {
     "data": {
      "text/plain": [
       "'I live in Chitwan and I am working as IT'"
      ]
     },
     "execution_count": 14,
     "metadata": {},
     "output_type": "execute_result"
    }
   ],
   "source": [
    "profile.replace('chitwan', 'gaindakot')"
   ]
  },
  {
   "cell_type": "code",
   "execution_count": 15,
   "id": "91c10079",
   "metadata": {},
   "outputs": [],
   "source": [
    "profile1=profile.strip()"
   ]
  },
  {
   "cell_type": "code",
   "execution_count": 16,
   "id": "c23d7ad5",
   "metadata": {},
   "outputs": [
    {
     "name": "stdout",
     "output_type": "stream",
     "text": [
      "I live in Chitwan and I am working as IT\n"
     ]
    }
   ],
   "source": [
    "print(profile1)"
   ]
  },
  {
   "cell_type": "code",
   "execution_count": 17,
   "id": "c08f875f",
   "metadata": {},
   "outputs": [
    {
     "data": {
      "text/plain": [
       "['I', 'live', 'in', 'Chitwan', 'and', 'I', 'am', 'working', 'as', 'IT']"
      ]
     },
     "execution_count": 17,
     "metadata": {},
     "output_type": "execute_result"
    }
   ],
   "source": [
    "profile.split()"
   ]
  },
  {
   "cell_type": "code",
   "execution_count": 18,
   "id": "4bc38004",
   "metadata": {},
   "outputs": [
    {
     "data": {
      "text/plain": [
       "['I live in Chitwan and I am working as IT']"
      ]
     },
     "execution_count": 18,
     "metadata": {},
     "output_type": "execute_result"
    }
   ],
   "source": [
    "profile.split('&')"
   ]
  },
  {
   "cell_type": "code",
   "execution_count": 19,
   "id": "538b512b",
   "metadata": {},
   "outputs": [
    {
     "data": {
      "text/plain": [
       "['I live in Chitwan ', ' I am working as IT']"
      ]
     },
     "execution_count": 19,
     "metadata": {},
     "output_type": "execute_result"
    }
   ],
   "source": [
    "profile.split('and')"
   ]
  },
  {
   "cell_type": "code",
   "execution_count": 20,
   "id": "97cedc2b",
   "metadata": {},
   "outputs": [
    {
     "ename": "TypeError",
     "evalue": "'str' object cannot be interpreted as an integer",
     "output_type": "error",
     "traceback": [
      "\u001b[1;31m---------------------------------------------------------------------------\u001b[0m",
      "\u001b[1;31mTypeError\u001b[0m                                 Traceback (most recent call last)",
      "Cell \u001b[1;32mIn[20], line 1\u001b[0m\n\u001b[1;32m----> 1\u001b[0m \u001b[43mprofile\u001b[49m\u001b[38;5;241;43m.\u001b[39;49m\u001b[43msplit\u001b[49m\u001b[43m(\u001b[49m\u001b[38;5;124;43m'\u001b[39;49m\u001b[38;5;124;43mand\u001b[39;49m\u001b[38;5;124;43m'\u001b[39;49m\u001b[43m,\u001b[49m\u001b[38;5;124;43m'\u001b[39;49m\u001b[38;5;124;43mam\u001b[39;49m\u001b[38;5;124;43m'\u001b[39;49m\u001b[43m)\u001b[49m\n",
      "\u001b[1;31mTypeError\u001b[0m: 'str' object cannot be interpreted as an integer"
     ]
    }
   ],
   "source": [
    "profile.split('and','am')"
   ]
  },
  {
   "cell_type": "code",
   "execution_count": 21,
   "id": "30e0f553",
   "metadata": {},
   "outputs": [
    {
     "data": {
      "text/plain": [
       "['I live in Chitwan ', ' I am working as IT']"
      ]
     },
     "execution_count": 21,
     "metadata": {},
     "output_type": "execute_result"
    }
   ],
   "source": [
    "profile.split('and')"
   ]
  },
  {
   "cell_type": "code",
   "execution_count": 26,
   "id": "96701dc4",
   "metadata": {},
   "outputs": [],
   "source": [
    "a='hello '"
   ]
  },
  {
   "cell_type": "code",
   "execution_count": 27,
   "id": "06f50fb8",
   "metadata": {},
   "outputs": [],
   "source": [
    "b='world'"
   ]
  },
  {
   "cell_type": "code",
   "execution_count": 28,
   "id": "f7325318",
   "metadata": {},
   "outputs": [],
   "source": [
    "d=a+b"
   ]
  },
  {
   "cell_type": "code",
   "execution_count": 29,
   "id": "49d756ba",
   "metadata": {},
   "outputs": [
    {
     "name": "stdout",
     "output_type": "stream",
     "text": [
      "hello world\n"
     ]
    }
   ],
   "source": [
    "print(d)"
   ]
  },
  {
   "cell_type": "markdown",
   "id": "d0989098",
   "metadata": {},
   "source": [
    "#String Format"
   ]
  },
  {
   "cell_type": "code",
   "execution_count": 30,
   "id": "a3ada5eb",
   "metadata": {},
   "outputs": [],
   "source": [
    "a='My percentage in exam was more than'\n",
    "per=45"
   ]
  },
  {
   "cell_type": "code",
   "execution_count": 33,
   "id": "0e62e198",
   "metadata": {},
   "outputs": [],
   "source": [
    "add=f'My percentage in exam was more than {per}'"
   ]
  },
  {
   "cell_type": "code",
   "execution_count": 34,
   "id": "8cf38312",
   "metadata": {},
   "outputs": [
    {
     "name": "stdout",
     "output_type": "stream",
     "text": [
      "My percentage in exam was more than 45\n"
     ]
    }
   ],
   "source": [
    "print(add)"
   ]
  },
  {
   "cell_type": "code",
   "execution_count": 37,
   "id": "4c955d45",
   "metadata": {},
   "outputs": [],
   "source": [
    "add_more=f'My percentage in exam was more than {per:.2f}'"
   ]
  },
  {
   "cell_type": "code",
   "execution_count": 38,
   "id": "481ec139",
   "metadata": {},
   "outputs": [
    {
     "data": {
      "text/plain": [
       "'My percentage in exam was more than 45.00'"
      ]
     },
     "execution_count": 38,
     "metadata": {},
     "output_type": "execute_result"
    }
   ],
   "source": [
    "add_more"
   ]
  },
  {
   "cell_type": "code",
   "execution_count": 39,
   "id": "41d2d468",
   "metadata": {},
   "outputs": [],
   "source": [
    "#ESCAPE"
   ]
  },
  {
   "cell_type": "markdown",
   "id": "c8c68f3b",
   "metadata": {},
   "source": [
    "# ESCAPE"
   ]
  },
  {
   "cell_type": "code",
   "execution_count": 43,
   "id": "cc51bdec",
   "metadata": {},
   "outputs": [],
   "source": [
    "# Single Quotataion Escape\n",
    "abc='She is ram\\'s Mother'"
   ]
  },
  {
   "cell_type": "code",
   "execution_count": 44,
   "id": "1ed72b6e",
   "metadata": {},
   "outputs": [
    {
     "data": {
      "text/plain": [
       "\"She is ram's Mother\""
      ]
     },
     "execution_count": 44,
     "metadata": {},
     "output_type": "execute_result"
    }
   ],
   "source": [
    "abc"
   ]
  },
  {
   "cell_type": "code",
   "execution_count": 65,
   "id": "72ab5cfc",
   "metadata": {},
   "outputs": [],
   "source": [
    "new='She is ram\\'s Mother.\\n Her mother name is Lisa'"
   ]
  },
  {
   "cell_type": "code",
   "execution_count": 67,
   "id": "e7a1dd93",
   "metadata": {},
   "outputs": [
    {
     "name": "stdout",
     "output_type": "stream",
     "text": [
      "She is ram's Mother.\n",
      " Her mother name is Lisa\n"
     ]
    }
   ],
   "source": [
    "print(new)"
   ]
  },
  {
   "cell_type": "code",
   "execution_count": 68,
   "id": "440ea67d",
   "metadata": {},
   "outputs": [
    {
     "data": {
      "text/plain": [
       "\"She is ram's mother\""
      ]
     },
     "execution_count": 68,
     "metadata": {},
     "output_type": "execute_result"
    }
   ],
   "source": [
    "abc.capitalize()"
   ]
  },
  {
   "cell_type": "code",
   "execution_count": 69,
   "id": "62ccc7af",
   "metadata": {},
   "outputs": [
    {
     "data": {
      "text/plain": [
       "\"She is ram's Mother\""
      ]
     },
     "execution_count": 69,
     "metadata": {},
     "output_type": "execute_result"
    }
   ],
   "source": [
    "abc.center(10)"
   ]
  },
  {
   "cell_type": "code",
   "execution_count": 70,
   "id": "b0b8070f",
   "metadata": {},
   "outputs": [
    {
     "data": {
      "text/plain": [
       "\"She is ram's Mother\""
      ]
     },
     "execution_count": 70,
     "metadata": {},
     "output_type": "execute_result"
    }
   ],
   "source": [
    "abc.center(10)"
   ]
  },
  {
   "cell_type": "code",
   "execution_count": 71,
   "id": "7a6994af",
   "metadata": {},
   "outputs": [
    {
     "data": {
      "text/plain": [
       "\"                                        She is ram's Mother                                         \""
      ]
     },
     "execution_count": 71,
     "metadata": {},
     "output_type": "execute_result"
    }
   ],
   "source": [
    "abc.center(100)"
   ]
  },
  {
   "cell_type": "code",
   "execution_count": 72,
   "id": "5b941833",
   "metadata": {},
   "outputs": [
    {
     "data": {
      "text/plain": [
       "\"               She is ram's Mother                \""
      ]
     },
     "execution_count": 72,
     "metadata": {},
     "output_type": "execute_result"
    }
   ],
   "source": [
    "abc.center(50)"
   ]
  },
  {
   "cell_type": "markdown",
   "id": "53d7d13d",
   "metadata": {},
   "source": [
    "# Boolean value"
   ]
  },
  {
   "cell_type": "code",
   "execution_count": 73,
   "id": "086b4a7b",
   "metadata": {},
   "outputs": [
    {
     "name": "stdout",
     "output_type": "stream",
     "text": [
      "True\n"
     ]
    }
   ],
   "source": [
    "print(1<3)"
   ]
  },
  {
   "cell_type": "code",
   "execution_count": 74,
   "id": "a4064c24",
   "metadata": {},
   "outputs": [
    {
     "name": "stdout",
     "output_type": "stream",
     "text": [
      "False\n"
     ]
    }
   ],
   "source": [
    "print(1>3)"
   ]
  },
  {
   "cell_type": "markdown",
   "id": "7174048e",
   "metadata": {},
   "source": [
    "# Number"
   ]
  },
  {
   "cell_type": "code",
   "execution_count": 75,
   "id": "ae086f89",
   "metadata": {},
   "outputs": [],
   "source": [
    "a='hello'"
   ]
  },
  {
   "cell_type": "code",
   "execution_count": 76,
   "id": "00df1f80",
   "metadata": {},
   "outputs": [
    {
     "data": {
      "text/plain": [
       "15"
      ]
     },
     "execution_count": 76,
     "metadata": {},
     "output_type": "execute_result"
    }
   ],
   "source": [
    "import random\n",
    "random.randrange(1,50)"
   ]
  },
  {
   "cell_type": "code",
   "execution_count": 79,
   "id": "247ff083",
   "metadata": {},
   "outputs": [
    {
     "name": "stdout",
     "output_type": "stream",
     "text": [
      "shyam\n"
     ]
    }
   ],
   "source": [
    "import random\n",
    "list=['suman','hari','shyam']\n",
    "print(random.choice(list))"
   ]
  },
  {
   "cell_type": "code",
   "execution_count": 85,
   "id": "d1d79c97",
   "metadata": {},
   "outputs": [],
   "source": [
    "a=303\n",
    "b=30"
   ]
  },
  {
   "cell_type": "code",
   "execution_count": 86,
   "id": "41b708e1",
   "metadata": {},
   "outputs": [
    {
     "data": {
      "text/plain": [
       "333"
      ]
     },
     "execution_count": 86,
     "metadata": {},
     "output_type": "execute_result"
    }
   ],
   "source": [
    "a+b"
   ]
  },
  {
   "cell_type": "code",
   "execution_count": 87,
   "id": "73107080",
   "metadata": {},
   "outputs": [
    {
     "data": {
      "text/plain": [
       "277510139070436653235593846644740880645093799487023735141426472698579191649"
      ]
     },
     "execution_count": 87,
     "metadata": {},
     "output_type": "execute_result"
    }
   ],
   "source": [
    "a**b"
   ]
  },
  {
   "cell_type": "code",
   "execution_count": 88,
   "id": "7ed48d91",
   "metadata": {},
   "outputs": [
    {
     "data": {
      "text/plain": [
       "9090"
      ]
     },
     "execution_count": 88,
     "metadata": {},
     "output_type": "execute_result"
    }
   ],
   "source": [
    "a*b"
   ]
  },
  {
   "cell_type": "code",
   "execution_count": 89,
   "id": "707d3088",
   "metadata": {},
   "outputs": [
    {
     "data": {
      "text/plain": [
       "10"
      ]
     },
     "execution_count": 89,
     "metadata": {},
     "output_type": "execute_result"
    }
   ],
   "source": [
    "a//b"
   ]
  },
  {
   "cell_type": "markdown",
   "id": "b786bb23",
   "metadata": {},
   "source": [
    "# Assignment operator"
   ]
  },
  {
   "cell_type": "code",
   "execution_count": 90,
   "id": "3d11cb7c",
   "metadata": {},
   "outputs": [],
   "source": [
    "a=5"
   ]
  },
  {
   "cell_type": "code",
   "execution_count": 91,
   "id": "f8318d83",
   "metadata": {},
   "outputs": [],
   "source": [
    "x=a+54"
   ]
  },
  {
   "cell_type": "code",
   "execution_count": 92,
   "id": "967af8f4",
   "metadata": {},
   "outputs": [
    {
     "name": "stdout",
     "output_type": "stream",
     "text": [
      "59\n"
     ]
    }
   ],
   "source": [
    "print(x)"
   ]
  },
  {
   "cell_type": "code",
   "execution_count": 93,
   "id": "1fb54ee3",
   "metadata": {},
   "outputs": [],
   "source": [
    "a+=65"
   ]
  },
  {
   "cell_type": "code",
   "execution_count": 94,
   "id": "9fc0c619",
   "metadata": {},
   "outputs": [
    {
     "data": {
      "text/plain": [
       "70"
      ]
     },
     "execution_count": 94,
     "metadata": {},
     "output_type": "execute_result"
    }
   ],
   "source": [
    "a"
   ]
  },
  {
   "cell_type": "code",
   "execution_count": 95,
   "id": "8ddf5808",
   "metadata": {},
   "outputs": [],
   "source": [
    "a/=67"
   ]
  },
  {
   "cell_type": "code",
   "execution_count": 96,
   "id": "bfae79a6",
   "metadata": {},
   "outputs": [],
   "source": [
    "a*=4"
   ]
  },
  {
   "cell_type": "code",
   "execution_count": 97,
   "id": "95f4cd6b",
   "metadata": {},
   "outputs": [
    {
     "data": {
      "text/plain": [
       "4.17910447761194"
      ]
     },
     "execution_count": 97,
     "metadata": {},
     "output_type": "execute_result"
    }
   ],
   "source": [
    "a"
   ]
  },
  {
   "cell_type": "code",
   "execution_count": 98,
   "id": "9a9c9ac6",
   "metadata": {},
   "outputs": [],
   "source": [
    "b=5"
   ]
  },
  {
   "cell_type": "code",
   "execution_count": 99,
   "id": "4a88bbad",
   "metadata": {},
   "outputs": [],
   "source": [
    "b*=5"
   ]
  },
  {
   "cell_type": "code",
   "execution_count": 100,
   "id": "43090dfd",
   "metadata": {},
   "outputs": [
    {
     "data": {
      "text/plain": [
       "25"
      ]
     },
     "execution_count": 100,
     "metadata": {},
     "output_type": "execute_result"
    }
   ],
   "source": [
    "b"
   ]
  },
  {
   "cell_type": "markdown",
   "id": "b925c8b4",
   "metadata": {},
   "source": [
    "# Comparison Operator"
   ]
  },
  {
   "cell_type": "code",
   "execution_count": 101,
   "id": "40797021",
   "metadata": {},
   "outputs": [],
   "source": [
    "a=5\n",
    "b=5"
   ]
  },
  {
   "cell_type": "code",
   "execution_count": 102,
   "id": "352e38dd",
   "metadata": {},
   "outputs": [
    {
     "data": {
      "text/plain": [
       "False"
      ]
     },
     "execution_count": 102,
     "metadata": {},
     "output_type": "execute_result"
    }
   ],
   "source": [
    "a>b"
   ]
  },
  {
   "cell_type": "code",
   "execution_count": 103,
   "id": "a28e987d",
   "metadata": {},
   "outputs": [],
   "source": [
    "a=b"
   ]
  },
  {
   "cell_type": "code",
   "execution_count": 104,
   "id": "ad33ebd1",
   "metadata": {},
   "outputs": [
    {
     "data": {
      "text/plain": [
       "True"
      ]
     },
     "execution_count": 104,
     "metadata": {},
     "output_type": "execute_result"
    }
   ],
   "source": [
    "a==b"
   ]
  },
  {
   "cell_type": "code",
   "execution_count": 105,
   "id": "640526ac",
   "metadata": {},
   "outputs": [
    {
     "data": {
      "text/plain": [
       "False"
      ]
     },
     "execution_count": 105,
     "metadata": {},
     "output_type": "execute_result"
    }
   ],
   "source": [
    "a<b"
   ]
  },
  {
   "cell_type": "code",
   "execution_count": 106,
   "id": "0b9cbc01",
   "metadata": {},
   "outputs": [],
   "source": [
    "a+=5"
   ]
  },
  {
   "cell_type": "code",
   "execution_count": 107,
   "id": "c89c2eae",
   "metadata": {},
   "outputs": [
    {
     "data": {
      "text/plain": [
       "True"
      ]
     },
     "execution_count": 107,
     "metadata": {},
     "output_type": "execute_result"
    }
   ],
   "source": [
    "a>b"
   ]
  },
  {
   "cell_type": "markdown",
   "id": "af414167",
   "metadata": {},
   "source": [
    "# Logical operator"
   ]
  },
  {
   "cell_type": "code",
   "execution_count": 108,
   "id": "075063b5",
   "metadata": {},
   "outputs": [],
   "source": [
    "z=20"
   ]
  },
  {
   "cell_type": "code",
   "execution_count": 109,
   "id": "911f121b",
   "metadata": {},
   "outputs": [
    {
     "name": "stdout",
     "output_type": "stream",
     "text": [
      "False\n"
     ]
    }
   ],
   "source": [
    "print(z<10 and z>10)"
   ]
  },
  {
   "cell_type": "code",
   "execution_count": 110,
   "id": "ffa02469",
   "metadata": {},
   "outputs": [
    {
     "name": "stdout",
     "output_type": "stream",
     "text": [
      "True\n"
     ]
    }
   ],
   "source": [
    "print(z==20 and z>10)"
   ]
  },
  {
   "cell_type": "code",
   "execution_count": 111,
   "id": "63bbbab1",
   "metadata": {},
   "outputs": [
    {
     "name": "stdout",
     "output_type": "stream",
     "text": [
      "True\n"
     ]
    }
   ],
   "source": [
    "print(z<10 or z>10)"
   ]
  },
  {
   "cell_type": "code",
   "execution_count": null,
   "id": "3866496a",
   "metadata": {},
   "outputs": [],
   "source": []
  }
 ],
 "metadata": {
  "kernelspec": {
   "display_name": "Python 3 (ipykernel)",
   "language": "python",
   "name": "python3"
  },
  "language_info": {
   "codemirror_mode": {
    "name": "ipython",
    "version": 3
   },
   "file_extension": ".py",
   "mimetype": "text/x-python",
   "name": "python",
   "nbconvert_exporter": "python",
   "pygments_lexer": "ipython3",
   "version": "3.10.9"
  }
 },
 "nbformat": 4,
 "nbformat_minor": 5
}
