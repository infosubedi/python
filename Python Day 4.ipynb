{
 "cells": [
  {
   "cell_type": "code",
   "execution_count": 1,
   "id": "6fb7e6ca",
   "metadata": {},
   "outputs": [],
   "source": [
    "a='egg'"
   ]
  },
  {
   "cell_type": "code",
   "execution_count": 2,
   "id": "f2a7ecda",
   "metadata": {},
   "outputs": [],
   "source": [
    "b=a+a"
   ]
  },
  {
   "cell_type": "code",
   "execution_count": 3,
   "id": "c1788105",
   "metadata": {},
   "outputs": [
    {
     "data": {
      "text/plain": [
       "'eggegg'"
      ]
     },
     "execution_count": 3,
     "metadata": {},
     "output_type": "execute_result"
    }
   ],
   "source": [
    "b"
   ]
  },
  {
   "cell_type": "code",
   "execution_count": 4,
   "id": "5dc529b0",
   "metadata": {},
   "outputs": [
    {
     "ename": "TypeError",
     "evalue": "unsupported operand type(s) for -: 'str' and 'str'",
     "output_type": "error",
     "traceback": [
      "\u001b[1;31m---------------------------------------------------------------------------\u001b[0m",
      "\u001b[1;31mTypeError\u001b[0m                                 Traceback (most recent call last)",
      "Cell \u001b[1;32mIn[4], line 1\u001b[0m\n\u001b[1;32m----> 1\u001b[0m b\u001b[38;5;241m=\u001b[39m\u001b[43ma\u001b[49m\u001b[38;5;241;43m-\u001b[39;49m\u001b[43ma\u001b[49m\n",
      "\u001b[1;31mTypeError\u001b[0m: unsupported operand type(s) for -: 'str' and 'str'"
     ]
    }
   ],
   "source": [
    "b=a-a"
   ]
  },
  {
   "cell_type": "markdown",
   "id": "9c7904d4",
   "metadata": {},
   "source": [
    "# List"
   ]
  },
  {
   "cell_type": "code",
   "execution_count": 18,
   "id": "52949074",
   "metadata": {},
   "outputs": [],
   "source": [
    "a=['ram','hari',4.0]"
   ]
  },
  {
   "cell_type": "code",
   "execution_count": 19,
   "id": "7c472f88",
   "metadata": {},
   "outputs": [
    {
     "data": {
      "text/plain": [
       "list"
      ]
     },
     "execution_count": 19,
     "metadata": {},
     "output_type": "execute_result"
    }
   ],
   "source": [
    "type(a)"
   ]
  },
  {
   "cell_type": "code",
   "execution_count": 20,
   "id": "69254acf",
   "metadata": {},
   "outputs": [],
   "source": [
    "#List is indexed\n",
    "## Elemments of List are changable"
   ]
  },
  {
   "cell_type": "code",
   "execution_count": 21,
   "id": "c814a8cd",
   "metadata": {},
   "outputs": [
    {
     "data": {
      "text/plain": [
       "'ram'"
      ]
     },
     "execution_count": 21,
     "metadata": {},
     "output_type": "execute_result"
    }
   ],
   "source": [
    "a[0]"
   ]
  },
  {
   "cell_type": "code",
   "execution_count": 22,
   "id": "aacbfda1",
   "metadata": {},
   "outputs": [
    {
     "data": {
      "text/plain": [
       "4.0"
      ]
     },
     "execution_count": 22,
     "metadata": {},
     "output_type": "execute_result"
    }
   ],
   "source": [
    "a[-1]"
   ]
  },
  {
   "cell_type": "code",
   "execution_count": 23,
   "id": "40c12206",
   "metadata": {},
   "outputs": [
    {
     "data": {
      "text/plain": [
       "['ram', 'hari', 4.0]"
      ]
     },
     "execution_count": 23,
     "metadata": {},
     "output_type": "execute_result"
    }
   ],
   "source": [
    "a"
   ]
  },
  {
   "cell_type": "code",
   "execution_count": 24,
   "id": "3578e9ee",
   "metadata": {},
   "outputs": [
    {
     "ename": "TypeError",
     "evalue": "list.count() takes exactly one argument (0 given)",
     "output_type": "error",
     "traceback": [
      "\u001b[1;31m---------------------------------------------------------------------------\u001b[0m",
      "\u001b[1;31mTypeError\u001b[0m                                 Traceback (most recent call last)",
      "Cell \u001b[1;32mIn[24], line 1\u001b[0m\n\u001b[1;32m----> 1\u001b[0m \u001b[43ma\u001b[49m\u001b[38;5;241;43m.\u001b[39;49m\u001b[43mcount\u001b[49m\u001b[43m(\u001b[49m\u001b[43m)\u001b[49m\n",
      "\u001b[1;31mTypeError\u001b[0m: list.count() takes exactly one argument (0 given)"
     ]
    }
   ],
   "source": [
    "a.count()"
   ]
  },
  {
   "cell_type": "code",
   "execution_count": 25,
   "id": "7dc331ed",
   "metadata": {},
   "outputs": [
    {
     "data": {
      "text/plain": [
       "3"
      ]
     },
     "execution_count": 25,
     "metadata": {},
     "output_type": "execute_result"
    }
   ],
   "source": [
    "len(a) # how many elements are there"
   ]
  },
  {
   "cell_type": "code",
   "execution_count": null,
   "id": "92d51097",
   "metadata": {},
   "outputs": [],
   "source": []
  },
  {
   "cell_type": "code",
   "execution_count": 29,
   "id": "8c4cf956",
   "metadata": {},
   "outputs": [],
   "source": [
    "c=list(('ram','hari',4.0)) # another way to create the list"
   ]
  },
  {
   "cell_type": "code",
   "execution_count": 30,
   "id": "4cc87192",
   "metadata": {},
   "outputs": [
    {
     "data": {
      "text/plain": [
       "['ram', 'hari', 4.0]"
      ]
     },
     "execution_count": 30,
     "metadata": {},
     "output_type": "execute_result"
    }
   ],
   "source": [
    "c"
   ]
  },
  {
   "cell_type": "markdown",
   "id": "8545279d",
   "metadata": {},
   "source": [
    "# Items list can be accessed"
   ]
  },
  {
   "cell_type": "code",
   "execution_count": 31,
   "id": "7cd04e41",
   "metadata": {},
   "outputs": [
    {
     "data": {
      "text/plain": [
       "'hari'"
      ]
     },
     "execution_count": 31,
     "metadata": {},
     "output_type": "execute_result"
    }
   ],
   "source": [
    "c[1]"
   ]
  },
  {
   "cell_type": "code",
   "execution_count": 32,
   "id": "0d7f4daa",
   "metadata": {},
   "outputs": [
    {
     "data": {
      "text/plain": [
       "'ram'"
      ]
     },
     "execution_count": 32,
     "metadata": {},
     "output_type": "execute_result"
    }
   ],
   "source": [
    "c[0]"
   ]
  },
  {
   "cell_type": "code",
   "execution_count": 33,
   "id": "a8e40b7f",
   "metadata": {},
   "outputs": [
    {
     "data": {
      "text/plain": [
       "4.0"
      ]
     },
     "execution_count": 33,
     "metadata": {},
     "output_type": "execute_result"
    }
   ],
   "source": [
    "c[-1]"
   ]
  },
  {
   "cell_type": "code",
   "execution_count": 34,
   "id": "2cedeb74",
   "metadata": {},
   "outputs": [
    {
     "data": {
      "text/plain": [
       "['ram', 'hari', 4.0]"
      ]
     },
     "execution_count": 34,
     "metadata": {},
     "output_type": "execute_result"
    }
   ],
   "source": [
    "c[:]"
   ]
  },
  {
   "cell_type": "code",
   "execution_count": 35,
   "id": "bfd2cfb4",
   "metadata": {},
   "outputs": [
    {
     "data": {
      "text/plain": [
       "['ram']"
      ]
     },
     "execution_count": 35,
     "metadata": {},
     "output_type": "execute_result"
    }
   ],
   "source": [
    "c[0:1]"
   ]
  },
  {
   "cell_type": "code",
   "execution_count": 36,
   "id": "3fb9c03f",
   "metadata": {},
   "outputs": [
    {
     "ename": "SyntaxError",
     "evalue": "invalid syntax (3725975966.py, line 1)",
     "output_type": "error",
     "traceback": [
      "\u001b[1;36m  Cell \u001b[1;32mIn[36], line 1\u001b[1;36m\u001b[0m\n\u001b[1;33m    [-2:]\u001b[0m\n\u001b[1;37m       ^\u001b[0m\n\u001b[1;31mSyntaxError\u001b[0m\u001b[1;31m:\u001b[0m invalid syntax\n"
     ]
    }
   ],
   "source": [
    "[-2:]"
   ]
  },
  {
   "cell_type": "code",
   "execution_count": 37,
   "id": "46049b99",
   "metadata": {},
   "outputs": [
    {
     "data": {
      "text/plain": [
       "['hari', 4.0]"
      ]
     },
     "execution_count": 37,
     "metadata": {},
     "output_type": "execute_result"
    }
   ],
   "source": [
    "c[-2:]"
   ]
  },
  {
   "cell_type": "code",
   "execution_count": 38,
   "id": "f1b2cde3",
   "metadata": {},
   "outputs": [],
   "source": [
    "add=100"
   ]
  },
  {
   "cell_type": "code",
   "execution_count": 39,
   "id": "182f7917",
   "metadata": {},
   "outputs": [],
   "source": [
    "sum=add+c[2]"
   ]
  },
  {
   "cell_type": "code",
   "execution_count": 40,
   "id": "9e5ee7b8",
   "metadata": {},
   "outputs": [
    {
     "data": {
      "text/plain": [
       "104.0"
      ]
     },
     "execution_count": 40,
     "metadata": {},
     "output_type": "execute_result"
    }
   ],
   "source": [
    "sum"
   ]
  },
  {
   "cell_type": "markdown",
   "id": "154f13de",
   "metadata": {},
   "source": [
    "# Elements of List Can be Changed"
   ]
  },
  {
   "cell_type": "code",
   "execution_count": 41,
   "id": "2b4cdad4",
   "metadata": {},
   "outputs": [],
   "source": [
    "c[1]='Fox'"
   ]
  },
  {
   "cell_type": "code",
   "execution_count": 42,
   "id": "896bbd26",
   "metadata": {},
   "outputs": [
    {
     "data": {
      "text/plain": [
       "['ram', 'Fox', 4.0]"
      ]
     },
     "execution_count": 42,
     "metadata": {},
     "output_type": "execute_result"
    }
   ],
   "source": [
    "c"
   ]
  },
  {
   "cell_type": "code",
   "execution_count": 44,
   "id": "82338d1e",
   "metadata": {},
   "outputs": [
    {
     "data": {
      "text/plain": [
       "['ram', 'Fox']"
      ]
     },
     "execution_count": 44,
     "metadata": {},
     "output_type": "execute_result"
    }
   ],
   "source": [
    "c[:2]"
   ]
  },
  {
   "cell_type": "code",
   "execution_count": 45,
   "id": "fd0a70a3",
   "metadata": {},
   "outputs": [],
   "source": [
    "c[:2]=['pradip','sujit']"
   ]
  },
  {
   "cell_type": "code",
   "execution_count": 46,
   "id": "814f9933",
   "metadata": {},
   "outputs": [
    {
     "data": {
      "text/plain": [
       "['pradip', 'sujit', 4.0]"
      ]
     },
     "execution_count": 46,
     "metadata": {},
     "output_type": "execute_result"
    }
   ],
   "source": [
    "c"
   ]
  },
  {
   "cell_type": "code",
   "execution_count": 48,
   "id": "5ade97be",
   "metadata": {},
   "outputs": [],
   "source": [
    "c.insert(1,'Niruta')"
   ]
  },
  {
   "cell_type": "code",
   "execution_count": 49,
   "id": "4c4866a0",
   "metadata": {},
   "outputs": [
    {
     "data": {
      "text/plain": [
       "['pradip', 'Niruta', 'sujit', 4.0]"
      ]
     },
     "execution_count": 49,
     "metadata": {},
     "output_type": "execute_result"
    }
   ],
   "source": [
    "c"
   ]
  },
  {
   "cell_type": "code",
   "execution_count": 50,
   "id": "f9e8012e",
   "metadata": {},
   "outputs": [],
   "source": [
    "c.append('france')"
   ]
  },
  {
   "cell_type": "code",
   "execution_count": 51,
   "id": "a1dfa8fb",
   "metadata": {},
   "outputs": [
    {
     "data": {
      "text/plain": [
       "['pradip', 'Niruta', 'sujit', 4.0, 'france']"
      ]
     },
     "execution_count": 51,
     "metadata": {},
     "output_type": "execute_result"
    }
   ],
   "source": [
    "c"
   ]
  },
  {
   "cell_type": "code",
   "execution_count": null,
   "id": "52d39da0",
   "metadata": {},
   "outputs": [],
   "source": []
  },
  {
   "cell_type": "code",
   "execution_count": 58,
   "id": "be9c97fe",
   "metadata": {},
   "outputs": [
    {
     "data": {
      "text/plain": [
       "['pradip', 'Niruta', 'sujit', 4.0, 'france', ('france', 'usa'), 'usa', 'UK']"
      ]
     },
     "execution_count": 58,
     "metadata": {},
     "output_type": "execute_result"
    }
   ],
   "source": [
    "c"
   ]
  },
  {
   "cell_type": "code",
   "execution_count": 61,
   "id": "b3699287",
   "metadata": {},
   "outputs": [],
   "source": [
    "c.extend(['usa','UK'])"
   ]
  },
  {
   "cell_type": "code",
   "execution_count": 62,
   "id": "d9f24a25",
   "metadata": {},
   "outputs": [
    {
     "data": {
      "text/plain": [
       "['pradip',\n",
       " 'Niruta',\n",
       " 'sujit',\n",
       " 4.0,\n",
       " 'france',\n",
       " ('france', 'usa'),\n",
       " 'usa',\n",
       " 'UK',\n",
       " 'usa',\n",
       " 'UK',\n",
       " 'usa',\n",
       " 'UK']"
      ]
     },
     "execution_count": 62,
     "metadata": {},
     "output_type": "execute_result"
    }
   ],
   "source": [
    "c"
   ]
  },
  {
   "cell_type": "code",
   "execution_count": 63,
   "id": "c27ba921",
   "metadata": {},
   "outputs": [
    {
     "ename": "ValueError",
     "evalue": "list.remove(x): x not in list",
     "output_type": "error",
     "traceback": [
      "\u001b[1;31m---------------------------------------------------------------------------\u001b[0m",
      "\u001b[1;31mValueError\u001b[0m                                Traceback (most recent call last)",
      "Cell \u001b[1;32mIn[63], line 1\u001b[0m\n\u001b[1;32m----> 1\u001b[0m \u001b[43mc\u001b[49m\u001b[38;5;241;43m.\u001b[39;49m\u001b[43mremove\u001b[49m\u001b[43m(\u001b[49m\u001b[38;5;241;43m5\u001b[39;49m\u001b[43m)\u001b[49m\n",
      "\u001b[1;31mValueError\u001b[0m: list.remove(x): x not in list"
     ]
    }
   ],
   "source": [
    "c.remove(5)"
   ]
  },
  {
   "cell_type": "code",
   "execution_count": 65,
   "id": "a4cbcdc0",
   "metadata": {},
   "outputs": [],
   "source": [
    "c.remove('UK')"
   ]
  },
  {
   "cell_type": "code",
   "execution_count": null,
   "id": "7329db11",
   "metadata": {},
   "outputs": [],
   "source": []
  },
  {
   "cell_type": "code",
   "execution_count": 67,
   "id": "c9dc5f67",
   "metadata": {},
   "outputs": [
    {
     "data": {
      "text/plain": [
       "'UK'"
      ]
     },
     "execution_count": 67,
     "metadata": {},
     "output_type": "execute_result"
    }
   ],
   "source": [
    "c.pop()"
   ]
  },
  {
   "cell_type": "code",
   "execution_count": 68,
   "id": "9c352e65",
   "metadata": {},
   "outputs": [
    {
     "data": {
      "text/plain": [
       "['pradip',\n",
       " 'Niruta',\n",
       " 'sujit',\n",
       " 4.0,\n",
       " 'france',\n",
       " ('france', 'usa'),\n",
       " 'usa',\n",
       " 'usa',\n",
       " 'UK',\n",
       " 'usa']"
      ]
     },
     "execution_count": 68,
     "metadata": {},
     "output_type": "execute_result"
    }
   ],
   "source": [
    "c"
   ]
  },
  {
   "cell_type": "code",
   "execution_count": 69,
   "id": "468eb25b",
   "metadata": {},
   "outputs": [
    {
     "data": {
      "text/plain": [
       "'usa'"
      ]
     },
     "execution_count": 69,
     "metadata": {},
     "output_type": "execute_result"
    }
   ],
   "source": [
    "c.pop()"
   ]
  },
  {
   "cell_type": "code",
   "execution_count": 70,
   "id": "03ce9c44",
   "metadata": {},
   "outputs": [
    {
     "data": {
      "text/plain": [
       "['pradip',\n",
       " 'Niruta',\n",
       " 'sujit',\n",
       " 4.0,\n",
       " 'france',\n",
       " ('france', 'usa'),\n",
       " 'usa',\n",
       " 'usa',\n",
       " 'UK']"
      ]
     },
     "execution_count": 70,
     "metadata": {},
     "output_type": "execute_result"
    }
   ],
   "source": [
    "c"
   ]
  },
  {
   "cell_type": "code",
   "execution_count": 71,
   "id": "f8a36dfc",
   "metadata": {},
   "outputs": [
    {
     "data": {
      "text/plain": [
       "('france', 'usa')"
      ]
     },
     "execution_count": 71,
     "metadata": {},
     "output_type": "execute_result"
    }
   ],
   "source": [
    "c.pop(5)"
   ]
  },
  {
   "cell_type": "code",
   "execution_count": 72,
   "id": "89227ce3",
   "metadata": {},
   "outputs": [
    {
     "data": {
      "text/plain": [
       "['pradip', 'Niruta', 'sujit', 4.0, 'france', 'usa', 'usa', 'UK']"
      ]
     },
     "execution_count": 72,
     "metadata": {},
     "output_type": "execute_result"
    }
   ],
   "source": [
    "c"
   ]
  },
  {
   "cell_type": "code",
   "execution_count": 73,
   "id": "a4c9c772",
   "metadata": {},
   "outputs": [],
   "source": [
    "c.remove('usa')"
   ]
  },
  {
   "cell_type": "code",
   "execution_count": 74,
   "id": "5ae72dd2",
   "metadata": {},
   "outputs": [
    {
     "data": {
      "text/plain": [
       "['pradip', 'Niruta', 'sujit', 4.0, 'france', 'usa', 'UK']"
      ]
     },
     "execution_count": 74,
     "metadata": {},
     "output_type": "execute_result"
    }
   ],
   "source": [
    "c"
   ]
  },
  {
   "cell_type": "code",
   "execution_count": 75,
   "id": "7f6995c8",
   "metadata": {},
   "outputs": [],
   "source": [
    "del c[3]"
   ]
  },
  {
   "cell_type": "code",
   "execution_count": 76,
   "id": "9f942b4d",
   "metadata": {},
   "outputs": [
    {
     "data": {
      "text/plain": [
       "['pradip', 'Niruta', 'sujit', 'france', 'usa', 'UK']"
      ]
     },
     "execution_count": 76,
     "metadata": {},
     "output_type": "execute_result"
    }
   ],
   "source": [
    "c"
   ]
  },
  {
   "cell_type": "code",
   "execution_count": 78,
   "id": "5fbbbcfb",
   "metadata": {},
   "outputs": [],
   "source": [
    "d=c"
   ]
  },
  {
   "cell_type": "code",
   "execution_count": 79,
   "id": "e7b3731f",
   "metadata": {},
   "outputs": [
    {
     "data": {
      "text/plain": [
       "['pradip', 'Niruta', 'sujit', 'france', 'usa', 'UK']"
      ]
     },
     "execution_count": 79,
     "metadata": {},
     "output_type": "execute_result"
    }
   ],
   "source": [
    "d"
   ]
  },
  {
   "cell_type": "code",
   "execution_count": 80,
   "id": "d9abcaa5",
   "metadata": {},
   "outputs": [],
   "source": [
    "del c"
   ]
  },
  {
   "cell_type": "code",
   "execution_count": 81,
   "id": "67f53c8e",
   "metadata": {},
   "outputs": [
    {
     "data": {
      "text/plain": [
       "['pradip', 'Niruta', 'sujit', 'france', 'usa', 'UK']"
      ]
     },
     "execution_count": 81,
     "metadata": {},
     "output_type": "execute_result"
    }
   ],
   "source": [
    "d"
   ]
  },
  {
   "cell_type": "code",
   "execution_count": 83,
   "id": "07e662f7",
   "metadata": {},
   "outputs": [
    {
     "ename": "NameError",
     "evalue": "name 'c' is not defined",
     "output_type": "error",
     "traceback": [
      "\u001b[1;31m---------------------------------------------------------------------------\u001b[0m",
      "\u001b[1;31mNameError\u001b[0m                                 Traceback (most recent call last)",
      "Cell \u001b[1;32mIn[83], line 1\u001b[0m\n\u001b[1;32m----> 1\u001b[0m \u001b[43mc\u001b[49m\n",
      "\u001b[1;31mNameError\u001b[0m: name 'c' is not defined"
     ]
    }
   ],
   "source": [
    "c"
   ]
  },
  {
   "cell_type": "code",
   "execution_count": 84,
   "id": "c88d34f4",
   "metadata": {},
   "outputs": [],
   "source": [
    "d.clear()"
   ]
  },
  {
   "cell_type": "code",
   "execution_count": 85,
   "id": "5059ec27",
   "metadata": {},
   "outputs": [
    {
     "data": {
      "text/plain": [
       "[]"
      ]
     },
     "execution_count": 85,
     "metadata": {},
     "output_type": "execute_result"
    }
   ],
   "source": [
    "d"
   ]
  },
  {
   "cell_type": "code",
   "execution_count": 86,
   "id": "dd28db55",
   "metadata": {},
   "outputs": [],
   "source": [
    "d=['pradip', 'Niruta', 'sujit', 'france', 'usa', 'UK']"
   ]
  },
  {
   "cell_type": "code",
   "execution_count": 96,
   "id": "f762b1a6",
   "metadata": {},
   "outputs": [
    {
     "data": {
      "text/plain": [
       "['pradip', 'Niruta', 3, 'sujit', 'france', 'usa', 'UK']"
      ]
     },
     "execution_count": 96,
     "metadata": {},
     "output_type": "execute_result"
    }
   ],
   "source": [
    "d"
   ]
  },
  {
   "cell_type": "code",
   "execution_count": 111,
   "id": "70471459",
   "metadata": {},
   "outputs": [
    {
     "data": {
      "text/plain": [
       "['pradip', 'Niruta', 'ram', 3, 'sujit', 'france', 'usa', 'UK']"
      ]
     },
     "execution_count": 111,
     "metadata": {},
     "output_type": "execute_result"
    }
   ],
   "source": [
    "d"
   ]
  },
  {
   "cell_type": "code",
   "execution_count": 113,
   "id": "c6eb1f1c",
   "metadata": {},
   "outputs": [],
   "source": [
    "d[3]='komal'"
   ]
  },
  {
   "cell_type": "code",
   "execution_count": 114,
   "id": "8d2bfc41",
   "metadata": {},
   "outputs": [
    {
     "name": "stdout",
     "output_type": "stream",
     "text": [
      "pradip\n",
      "Niruta\n",
      "ram\n",
      "komal\n",
      "sujit\n",
      "france\n",
      "usa\n",
      "UK\n"
     ]
    }
   ],
   "source": [
    "for i in d:\n",
    "    print(i)"
   ]
  },
  {
   "cell_type": "code",
   "execution_count": 95,
   "id": "1263cf5e",
   "metadata": {},
   "outputs": [
    {
     "name": "stdout",
     "output_type": "stream",
     "text": [
      "1\n"
     ]
    }
   ],
   "source": [
    "for i in range (1,3,5):\n",
    "    print(i)"
   ]
  },
  {
   "cell_type": "code",
   "execution_count": 103,
   "id": "48cf67de",
   "metadata": {},
   "outputs": [],
   "source": [
    "f=['hari','ram','sita']"
   ]
  },
  {
   "cell_type": "code",
   "execution_count": 104,
   "id": "179247e7",
   "metadata": {},
   "outputs": [
    {
     "data": {
      "text/plain": [
       "['hari', 'ram', 'sita']"
      ]
     },
     "execution_count": 104,
     "metadata": {},
     "output_type": "execute_result"
    }
   ],
   "source": [
    "f"
   ]
  },
  {
   "cell_type": "code",
   "execution_count": 105,
   "id": "e14988c0",
   "metadata": {},
   "outputs": [],
   "source": [
    "f.sort(reverse=False)"
   ]
  },
  {
   "cell_type": "code",
   "execution_count": 106,
   "id": "17d54f24",
   "metadata": {},
   "outputs": [
    {
     "data": {
      "text/plain": [
       "['hari', 'ram', 'sita']"
      ]
     },
     "execution_count": 106,
     "metadata": {},
     "output_type": "execute_result"
    }
   ],
   "source": [
    "f"
   ]
  },
  {
   "cell_type": "code",
   "execution_count": 107,
   "id": "4af37ce0",
   "metadata": {},
   "outputs": [],
   "source": [
    "f.sort(reverse=True)"
   ]
  },
  {
   "cell_type": "code",
   "execution_count": 108,
   "id": "197511e3",
   "metadata": {},
   "outputs": [
    {
     "data": {
      "text/plain": [
       "['sita', 'ram', 'hari']"
      ]
     },
     "execution_count": 108,
     "metadata": {},
     "output_type": "execute_result"
    }
   ],
   "source": [
    "f"
   ]
  },
  {
   "cell_type": "code",
   "execution_count": 109,
   "id": "53f5ca7e",
   "metadata": {},
   "outputs": [],
   "source": [
    "g=f.copy()"
   ]
  },
  {
   "cell_type": "code",
   "execution_count": 110,
   "id": "beb03c9e",
   "metadata": {},
   "outputs": [
    {
     "data": {
      "text/plain": [
       "['sita', 'ram', 'hari']"
      ]
     },
     "execution_count": 110,
     "metadata": {},
     "output_type": "execute_result"
    }
   ],
   "source": [
    "g"
   ]
  },
  {
   "cell_type": "code",
   "execution_count": 115,
   "id": "dc57f5f8",
   "metadata": {},
   "outputs": [],
   "source": [
    "h=['sita', 'ram', 'hari','komal']"
   ]
  },
  {
   "cell_type": "code",
   "execution_count": 116,
   "id": "56dda498",
   "metadata": {},
   "outputs": [],
   "source": [
    "i=h"
   ]
  },
  {
   "cell_type": "code",
   "execution_count": 117,
   "id": "02fb162f",
   "metadata": {},
   "outputs": [
    {
     "data": {
      "text/plain": [
       "['sita', 'ram', 'hari', 'komal']"
      ]
     },
     "execution_count": 117,
     "metadata": {},
     "output_type": "execute_result"
    }
   ],
   "source": [
    "i"
   ]
  },
  {
   "cell_type": "code",
   "execution_count": 118,
   "id": "b66876fc",
   "metadata": {},
   "outputs": [
    {
     "data": {
      "text/plain": [
       "'komal'"
      ]
     },
     "execution_count": 118,
     "metadata": {},
     "output_type": "execute_result"
    }
   ],
   "source": [
    "i.pop()"
   ]
  },
  {
   "cell_type": "code",
   "execution_count": 119,
   "id": "b4986bc4",
   "metadata": {},
   "outputs": [
    {
     "data": {
      "text/plain": [
       "['sita', 'ram', 'hari']"
      ]
     },
     "execution_count": 119,
     "metadata": {},
     "output_type": "execute_result"
    }
   ],
   "source": [
    "i"
   ]
  },
  {
   "cell_type": "code",
   "execution_count": 120,
   "id": "edcdc093",
   "metadata": {},
   "outputs": [
    {
     "data": {
      "text/plain": [
       "['sita', 'ram', 'hari']"
      ]
     },
     "execution_count": 120,
     "metadata": {},
     "output_type": "execute_result"
    }
   ],
   "source": [
    "h"
   ]
  },
  {
   "cell_type": "code",
   "execution_count": 122,
   "id": "8945df9f",
   "metadata": {},
   "outputs": [
    {
     "data": {
      "text/plain": [
       "['sita', 'ram', 'hari', 'sita', 'ram', 'hari', 'sita', 'ram', 'hari']"
      ]
     },
     "execution_count": 122,
     "metadata": {},
     "output_type": "execute_result"
    }
   ],
   "source": [
    "h*3"
   ]
  },
  {
   "cell_type": "code",
   "execution_count": 123,
   "id": "3630bd38",
   "metadata": {},
   "outputs": [],
   "source": [
    "f.extend(i)"
   ]
  },
  {
   "cell_type": "code",
   "execution_count": 124,
   "id": "d117ec4c",
   "metadata": {},
   "outputs": [
    {
     "data": {
      "text/plain": [
       "['sita', 'ram', 'hari', 'sita', 'ram', 'hari']"
      ]
     },
     "execution_count": 124,
     "metadata": {},
     "output_type": "execute_result"
    }
   ],
   "source": [
    "f"
   ]
  },
  {
   "cell_type": "code",
   "execution_count": 125,
   "id": "1982b0be",
   "metadata": {},
   "outputs": [
    {
     "name": "stdout",
     "output_type": "stream",
     "text": [
      "['sitasitasita']\n",
      "['sitasitasita', 'ramramram']\n",
      "['sitasitasita', 'ramramram', 'hariharihari']\n",
      "['sitasitasita', 'ramramram', 'hariharihari', 'sitasitasita']\n",
      "['sitasitasita', 'ramramram', 'hariharihari', 'sitasitasita', 'ramramram']\n",
      "['sitasitasita', 'ramramram', 'hariharihari', 'sitasitasita', 'ramramram', 'hariharihari']\n"
     ]
    }
   ],
   "source": [
    "name=[]\n",
    "for i in f:\n",
    "    name.append(i*3)\n",
    "    print(name)"
   ]
  },
  {
   "cell_type": "code",
   "execution_count": 126,
   "id": "2131bcd0",
   "metadata": {},
   "outputs": [],
   "source": [
    "t=[3,4,5]"
   ]
  },
  {
   "cell_type": "code",
   "execution_count": 127,
   "id": "81675e7b",
   "metadata": {},
   "outputs": [
    {
     "name": "stdout",
     "output_type": "stream",
     "text": [
      "[9]\n",
      "[9, 12]\n",
      "[9, 12, 15]\n"
     ]
    }
   ],
   "source": [
    "name=[]\n",
    "for i in t:\n",
    "    name.append(i*3)\n",
    "    print(name)"
   ]
  },
  {
   "cell_type": "code",
   "execution_count": 128,
   "id": "6b378888",
   "metadata": {},
   "outputs": [
    {
     "data": {
      "text/plain": [
       "1"
      ]
     },
     "execution_count": 128,
     "metadata": {},
     "output_type": "execute_result"
    }
   ],
   "source": [
    "name.count(12)"
   ]
  },
  {
   "cell_type": "code",
   "execution_count": 129,
   "id": "bd8c65a6",
   "metadata": {},
   "outputs": [
    {
     "data": {
      "text/plain": [
       "1"
      ]
     },
     "execution_count": 129,
     "metadata": {},
     "output_type": "execute_result"
    }
   ],
   "source": [
    "name.index(12)"
   ]
  },
  {
   "cell_type": "code",
   "execution_count": 131,
   "id": "6f164e81",
   "metadata": {},
   "outputs": [
    {
     "data": {
      "text/plain": [
       "2"
      ]
     },
     "execution_count": 131,
     "metadata": {},
     "output_type": "execute_result"
    }
   ],
   "source": [
    "name.index(15)"
   ]
  },
  {
   "cell_type": "code",
   "execution_count": null,
   "id": "daa86238",
   "metadata": {},
   "outputs": [],
   "source": []
  }
 ],
 "metadata": {
  "kernelspec": {
   "display_name": "Python 3 (ipykernel)",
   "language": "python",
   "name": "python3"
  },
  "language_info": {
   "codemirror_mode": {
    "name": "ipython",
    "version": 3
   },
   "file_extension": ".py",
   "mimetype": "text/x-python",
   "name": "python",
   "nbconvert_exporter": "python",
   "pygments_lexer": "ipython3",
   "version": "3.10.9"
  }
 },
 "nbformat": 4,
 "nbformat_minor": 5
}
