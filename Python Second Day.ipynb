{
 "cells": [
  {
   "cell_type": "code",
   "execution_count": 1,
   "id": "de06f881",
   "metadata": {},
   "outputs": [
    {
     "name": "stdout",
     "output_type": "stream",
     "text": [
      "hello\n"
     ]
    }
   ],
   "source": [
    "print('hello')"
   ]
  },
  {
   "cell_type": "code",
   "execution_count": 10,
   "id": "9bd7cbef",
   "metadata": {},
   "outputs": [],
   "source": [
    "b='hello'"
   ]
  },
  {
   "cell_type": "code",
   "execution_count": 6,
   "id": "b0723c39",
   "metadata": {},
   "outputs": [
    {
     "ename": "NameError",
     "evalue": "name 'b' is not defined",
     "output_type": "error",
     "traceback": [
      "\u001b[1;31m---------------------------------------------------------------------------\u001b[0m",
      "\u001b[1;31mNameError\u001b[0m                                 Traceback (most recent call last)",
      "Cell \u001b[1;32mIn[6], line 1\u001b[0m\n\u001b[1;32m----> 1\u001b[0m \u001b[38;5;28mtype\u001b[39m(\u001b[43mb\u001b[49m)\n",
      "\u001b[1;31mNameError\u001b[0m: name 'b' is not defined"
     ]
    }
   ],
   "source": [
    "type(b)"
   ]
  },
  {
   "cell_type": "code",
   "execution_count": 11,
   "id": "4c5c7268",
   "metadata": {},
   "outputs": [
    {
     "data": {
      "text/plain": [
       "float"
      ]
     },
     "execution_count": 11,
     "metadata": {},
     "output_type": "execute_result"
    }
   ],
   "source": [
    "type(b)"
   ]
  },
  {
   "cell_type": "code",
   "execution_count": 12,
   "id": "7e4e89f2",
   "metadata": {},
   "outputs": [
    {
     "data": {
      "text/plain": [
       "float"
      ]
     },
     "execution_count": 12,
     "metadata": {},
     "output_type": "execute_result"
    }
   ],
   "source": [
    "type(b)"
   ]
  },
  {
   "cell_type": "code",
   "execution_count": 13,
   "id": "49e30980",
   "metadata": {},
   "outputs": [],
   "source": [
    "b='hello'"
   ]
  },
  {
   "cell_type": "code",
   "execution_count": 14,
   "id": "c0a31919",
   "metadata": {},
   "outputs": [
    {
     "data": {
      "text/plain": [
       "str"
      ]
     },
     "execution_count": 14,
     "metadata": {},
     "output_type": "execute_result"
    }
   ],
   "source": [
    "type(b)"
   ]
  },
  {
   "cell_type": "markdown",
   "id": "24badf8e",
   "metadata": {},
   "source": [
    "## NEW DATA TYPE"
   ]
  },
  {
   "cell_type": "code",
   "execution_count": 22,
   "id": "de77868f",
   "metadata": {},
   "outputs": [],
   "source": [
    "a='name'"
   ]
  },
  {
   "cell_type": "code",
   "execution_count": 23,
   "id": "ad1efadd",
   "metadata": {},
   "outputs": [
    {
     "data": {
      "text/plain": [
       "str"
      ]
     },
     "execution_count": 23,
     "metadata": {},
     "output_type": "execute_result"
    }
   ],
   "source": [
    "type(a)"
   ]
  },
  {
   "cell_type": "code",
   "execution_count": 24,
   "id": "a4519333",
   "metadata": {},
   "outputs": [],
   "source": [
    "b=13"
   ]
  },
  {
   "cell_type": "code",
   "execution_count": 26,
   "id": "04500860",
   "metadata": {},
   "outputs": [
    {
     "data": {
      "text/plain": [
       "int"
      ]
     },
     "execution_count": 26,
     "metadata": {},
     "output_type": "execute_result"
    }
   ],
   "source": [
    "type(b)"
   ]
  },
  {
   "cell_type": "code",
   "execution_count": 27,
   "id": "8319f886",
   "metadata": {},
   "outputs": [],
   "source": [
    "c=3.4"
   ]
  },
  {
   "cell_type": "code",
   "execution_count": 28,
   "id": "2ff88d72",
   "metadata": {},
   "outputs": [
    {
     "data": {
      "text/plain": [
       "float"
      ]
     },
     "execution_count": 28,
     "metadata": {},
     "output_type": "execute_result"
    }
   ],
   "source": [
    "type(c)"
   ]
  },
  {
   "cell_type": "code",
   "execution_count": 18,
   "id": "50333db3",
   "metadata": {},
   "outputs": [],
   "source": [
    "d=5+4j"
   ]
  },
  {
   "cell_type": "code",
   "execution_count": 29,
   "id": "b102d77f",
   "metadata": {},
   "outputs": [
    {
     "data": {
      "text/plain": [
       "complex"
      ]
     },
     "execution_count": 29,
     "metadata": {},
     "output_type": "execute_result"
    }
   ],
   "source": [
    "type(d)"
   ]
  },
  {
   "cell_type": "code",
   "execution_count": 30,
   "id": "bda54f99",
   "metadata": {},
   "outputs": [],
   "source": [
    "e=True"
   ]
  },
  {
   "cell_type": "code",
   "execution_count": 31,
   "id": "fa49ef96",
   "metadata": {},
   "outputs": [
    {
     "data": {
      "text/plain": [
       "bool"
      ]
     },
     "execution_count": 31,
     "metadata": {},
     "output_type": "execute_result"
    }
   ],
   "source": [
    "type(e)"
   ]
  },
  {
   "cell_type": "code",
   "execution_count": 32,
   "id": "af609f40",
   "metadata": {},
   "outputs": [],
   "source": [
    "e=1"
   ]
  },
  {
   "cell_type": "code",
   "execution_count": 33,
   "id": "6fe3e1d6",
   "metadata": {},
   "outputs": [
    {
     "data": {
      "text/plain": [
       "int"
      ]
     },
     "execution_count": 33,
     "metadata": {},
     "output_type": "execute_result"
    }
   ],
   "source": [
    "type(e)"
   ]
  },
  {
   "cell_type": "code",
   "execution_count": 34,
   "id": "3917419d",
   "metadata": {},
   "outputs": [
    {
     "ename": "ValueError",
     "evalue": "invalid literal for int() with base 10: 'name'",
     "output_type": "error",
     "traceback": [
      "\u001b[1;31m---------------------------------------------------------------------------\u001b[0m",
      "\u001b[1;31mValueError\u001b[0m                                Traceback (most recent call last)",
      "Cell \u001b[1;32mIn[34], line 1\u001b[0m\n\u001b[1;32m----> 1\u001b[0m x\u001b[38;5;241m=\u001b[39m\u001b[38;5;28;43mint\u001b[39;49m\u001b[43m(\u001b[49m\u001b[43ma\u001b[49m\u001b[43m)\u001b[49m\n",
      "\u001b[1;31mValueError\u001b[0m: invalid literal for int() with base 10: 'name'"
     ]
    }
   ],
   "source": [
    "x=int(a)"
   ]
  },
  {
   "cell_type": "code",
   "execution_count": 35,
   "id": "50ddfe6b",
   "metadata": {},
   "outputs": [],
   "source": [
    "a=3.5"
   ]
  },
  {
   "cell_type": "code",
   "execution_count": 36,
   "id": "1bdb85ec",
   "metadata": {},
   "outputs": [],
   "source": [
    "x=int(a)"
   ]
  },
  {
   "cell_type": "code",
   "execution_count": 37,
   "id": "bfa0ed49",
   "metadata": {},
   "outputs": [
    {
     "data": {
      "text/plain": [
       "int"
      ]
     },
     "execution_count": 37,
     "metadata": {},
     "output_type": "execute_result"
    }
   ],
   "source": [
    "type(x)"
   ]
  },
  {
   "cell_type": "code",
   "execution_count": 38,
   "id": "2e4ab3bb",
   "metadata": {},
   "outputs": [],
   "source": [
    "y=float(x)"
   ]
  },
  {
   "cell_type": "code",
   "execution_count": 39,
   "id": "f28f7c03",
   "metadata": {},
   "outputs": [
    {
     "data": {
      "text/plain": [
       "float"
      ]
     },
     "execution_count": 39,
     "metadata": {},
     "output_type": "execute_result"
    }
   ],
   "source": [
    "type(y)"
   ]
  },
  {
   "cell_type": "code",
   "execution_count": 40,
   "id": "05191721",
   "metadata": {},
   "outputs": [
    {
     "data": {
      "text/plain": [
       "int"
      ]
     },
     "execution_count": 40,
     "metadata": {},
     "output_type": "execute_result"
    }
   ],
   "source": [
    "type(x)"
   ]
  },
  {
   "cell_type": "code",
   "execution_count": 41,
   "id": "ea1378bd",
   "metadata": {},
   "outputs": [
    {
     "name": "stdout",
     "output_type": "stream",
     "text": [
      "8.5\n"
     ]
    }
   ],
   "source": [
    "print(a+5)"
   ]
  },
  {
   "cell_type": "code",
   "execution_count": 44,
   "id": "d3730a9e",
   "metadata": {},
   "outputs": [],
   "source": [
    "a='''hello\n",
    "how are you'''"
   ]
  },
  {
   "cell_type": "code",
   "execution_count": 45,
   "id": "5149e204",
   "metadata": {},
   "outputs": [
    {
     "name": "stdout",
     "output_type": "stream",
     "text": [
      "hello\n",
      "how are you\n"
     ]
    }
   ],
   "source": [
    "print(a)"
   ]
  },
  {
   "cell_type": "code",
   "execution_count": 46,
   "id": "057c9f2c",
   "metadata": {},
   "outputs": [],
   "source": [
    "a=45\n",
    "b=34\n",
    "c=44"
   ]
  },
  {
   "cell_type": "code",
   "execution_count": 47,
   "id": "dee151bf",
   "metadata": {},
   "outputs": [
    {
     "name": "stdout",
     "output_type": "stream",
     "text": [
      "123\n"
     ]
    }
   ],
   "source": [
    "print(a+b+c)"
   ]
  },
  {
   "cell_type": "code",
   "execution_count": 48,
   "id": "fdaeb6b7",
   "metadata": {},
   "outputs": [],
   "source": [
    "example=\"Hello How Are You\""
   ]
  },
  {
   "cell_type": "code",
   "execution_count": 49,
   "id": "714f5f4f",
   "metadata": {},
   "outputs": [
    {
     "data": {
      "text/plain": [
       "'l'"
      ]
     },
     "execution_count": 49,
     "metadata": {},
     "output_type": "execute_result"
    }
   ],
   "source": [
    "example[3]"
   ]
  },
  {
   "cell_type": "code",
   "execution_count": 50,
   "id": "0aba6b92",
   "metadata": {},
   "outputs": [
    {
     "data": {
      "text/plain": [
       "'A'"
      ]
     },
     "execution_count": 50,
     "metadata": {},
     "output_type": "execute_result"
    }
   ],
   "source": [
    "example[10]"
   ]
  },
  {
   "cell_type": "code",
   "execution_count": 51,
   "id": "a4edbcd1",
   "metadata": {},
   "outputs": [
    {
     "data": {
      "text/plain": [
       "'Hel'"
      ]
     },
     "execution_count": 51,
     "metadata": {},
     "output_type": "execute_result"
    }
   ],
   "source": [
    "example[0:3]"
   ]
  },
  {
   "cell_type": "code",
   "execution_count": 52,
   "id": "ff3c3019",
   "metadata": {},
   "outputs": [
    {
     "data": {
      "text/plain": [
       "'Hello'"
      ]
     },
     "execution_count": 52,
     "metadata": {},
     "output_type": "execute_result"
    }
   ],
   "source": [
    "example[0:5]"
   ]
  },
  {
   "cell_type": "code",
   "execution_count": 53,
   "id": "4858635d",
   "metadata": {},
   "outputs": [
    {
     "ename": "NameError",
     "evalue": "name 'exaple' is not defined",
     "output_type": "error",
     "traceback": [
      "\u001b[1;31m---------------------------------------------------------------------------\u001b[0m",
      "\u001b[1;31mNameError\u001b[0m                                 Traceback (most recent call last)",
      "Cell \u001b[1;32mIn[53], line 1\u001b[0m\n\u001b[1;32m----> 1\u001b[0m \u001b[43mexaple\u001b[49m[\u001b[38;5;241m7\u001b[39m:\u001b[38;5;241m8\u001b[39m]\n",
      "\u001b[1;31mNameError\u001b[0m: name 'exaple' is not defined"
     ]
    }
   ],
   "source": [
    "exaple[6:8]"
   ]
  },
  {
   "cell_type": "code",
   "execution_count": 55,
   "id": "4d3467f1",
   "metadata": {},
   "outputs": [
    {
     "data": {
      "text/plain": [
       "'Ho'"
      ]
     },
     "execution_count": 55,
     "metadata": {},
     "output_type": "execute_result"
    }
   ],
   "source": [
    "example[6:8]"
   ]
  },
  {
   "cell_type": "code",
   "execution_count": 56,
   "id": "1234dada",
   "metadata": {},
   "outputs": [
    {
     "data": {
      "text/plain": [
       "'How'"
      ]
     },
     "execution_count": 56,
     "metadata": {},
     "output_type": "execute_result"
    }
   ],
   "source": [
    "example[6:9]"
   ]
  },
  {
   "cell_type": "code",
   "execution_count": 57,
   "id": "5f2d2315",
   "metadata": {},
   "outputs": [],
   "source": [
    "pradip=\"New in Python\""
   ]
  },
  {
   "cell_type": "code",
   "execution_count": 64,
   "id": "b69dde34",
   "metadata": {},
   "outputs": [
    {
     "data": {
      "text/plain": [
       "'Pytho'"
      ]
     },
     "execution_count": 64,
     "metadata": {},
     "output_type": "execute_result"
    }
   ],
   "source": [
    "pradip[7:12]"
   ]
  },
  {
   "cell_type": "markdown",
   "id": "0260c0c4",
   "metadata": {},
   "source": []
  },
  {
   "cell_type": "code",
   "execution_count": 65,
   "id": "bc0c5611",
   "metadata": {},
   "outputs": [
    {
     "data": {
      "text/plain": [
       "'New in Python'"
      ]
     },
     "execution_count": 65,
     "metadata": {},
     "output_type": "execute_result"
    }
   ],
   "source": [
    "pradip[:]"
   ]
  },
  {
   "cell_type": "code",
   "execution_count": 66,
   "id": "61ac7b63",
   "metadata": {},
   "outputs": [
    {
     "data": {
      "text/plain": [
       "'New '"
      ]
     },
     "execution_count": 66,
     "metadata": {},
     "output_type": "execute_result"
    }
   ],
   "source": [
    "pradip[:4]"
   ]
  },
  {
   "cell_type": "code",
   "execution_count": 67,
   "id": "9dcacdb4",
   "metadata": {},
   "outputs": [
    {
     "data": {
      "text/plain": [
       "'ew in Python'"
      ]
     },
     "execution_count": 67,
     "metadata": {},
     "output_type": "execute_result"
    }
   ],
   "source": [
    "pradip[1:]"
   ]
  },
  {
   "cell_type": "code",
   "execution_count": 68,
   "id": "8ada4376",
   "metadata": {},
   "outputs": [
    {
     "data": {
      "text/plain": [
       "''"
      ]
     },
     "execution_count": 68,
     "metadata": {},
     "output_type": "execute_result"
    }
   ],
   "source": [
    "pradip[-1:5]"
   ]
  },
  {
   "cell_type": "code",
   "execution_count": 69,
   "id": "8f87fcbe",
   "metadata": {},
   "outputs": [
    {
     "data": {
      "text/plain": [
       "'n'"
      ]
     },
     "execution_count": 69,
     "metadata": {},
     "output_type": "execute_result"
    }
   ],
   "source": [
    "pradip[-1:]"
   ]
  },
  {
   "cell_type": "code",
   "execution_count": 70,
   "id": "a8a39dfc",
   "metadata": {},
   "outputs": [
    {
     "data": {
      "text/plain": [
       "'New in Pyth'"
      ]
     },
     "execution_count": 70,
     "metadata": {},
     "output_type": "execute_result"
    }
   ],
   "source": [
    "pradip[:-2]"
   ]
  },
  {
   "cell_type": "code",
   "execution_count": 71,
   "id": "6252822a",
   "metadata": {},
   "outputs": [
    {
     "data": {
      "text/plain": [
       "'n'"
      ]
     },
     "execution_count": 71,
     "metadata": {},
     "output_type": "execute_result"
    }
   ],
   "source": [
    "pradip[-1:]"
   ]
  },
  {
   "cell_type": "code",
   "execution_count": 72,
   "id": "69413441",
   "metadata": {},
   "outputs": [
    {
     "data": {
      "text/plain": [
       "'on'"
      ]
     },
     "execution_count": 72,
     "metadata": {},
     "output_type": "execute_result"
    }
   ],
   "source": [
    "pradip[-2:]"
   ]
  },
  {
   "cell_type": "code",
   "execution_count": 73,
   "id": "24684717",
   "metadata": {},
   "outputs": [
    {
     "data": {
      "text/plain": [
       "''"
      ]
     },
     "execution_count": 73,
     "metadata": {},
     "output_type": "execute_result"
    }
   ],
   "source": [
    "pradip[-3:0]"
   ]
  },
  {
   "cell_type": "code",
   "execution_count": 74,
   "id": "2e173381",
   "metadata": {},
   "outputs": [
    {
     "data": {
      "text/plain": [
       "'hon'"
      ]
     },
     "execution_count": 74,
     "metadata": {},
     "output_type": "execute_result"
    }
   ],
   "source": [
    "pradip[-3:]"
   ]
  },
  {
   "cell_type": "code",
   "execution_count": 75,
   "id": "af619e79",
   "metadata": {},
   "outputs": [],
   "source": [
    "text='Hello Dear'"
   ]
  },
  {
   "cell_type": "code",
   "execution_count": 76,
   "id": "77c239d5",
   "metadata": {},
   "outputs": [
    {
     "data": {
      "text/plain": [
       "'Dear'"
      ]
     },
     "execution_count": 76,
     "metadata": {},
     "output_type": "execute_result"
    }
   ],
   "source": [
    "text[-4:]"
   ]
  },
  {
   "cell_type": "code",
   "execution_count": 77,
   "id": "7363e4b5",
   "metadata": {},
   "outputs": [
    {
     "data": {
      "text/plain": [
       "''"
      ]
     },
     "execution_count": 77,
     "metadata": {},
     "output_type": "execute_result"
    }
   ],
   "source": [
    "text[-4:4]"
   ]
  },
  {
   "cell_type": "code",
   "execution_count": 78,
   "id": "d14dece5",
   "metadata": {},
   "outputs": [
    {
     "data": {
      "text/plain": [
       "''"
      ]
     },
     "execution_count": 78,
     "metadata": {},
     "output_type": "execute_result"
    }
   ],
   "source": [
    "text[-4:3]"
   ]
  },
  {
   "cell_type": "code",
   "execution_count": 79,
   "id": "4adbd0bc",
   "metadata": {},
   "outputs": [
    {
     "data": {
      "text/plain": [
       "''"
      ]
     },
     "execution_count": 79,
     "metadata": {},
     "output_type": "execute_result"
    }
   ],
   "source": [
    "text[-4:1]"
   ]
  },
  {
   "cell_type": "code",
   "execution_count": 80,
   "id": "60671f79",
   "metadata": {},
   "outputs": [
    {
     "data": {
      "text/plain": [
       "'Dear'"
      ]
     },
     "execution_count": 80,
     "metadata": {},
     "output_type": "execute_result"
    }
   ],
   "source": [
    "text[6:10]"
   ]
  },
  {
   "cell_type": "code",
   "execution_count": 81,
   "id": "08b20fff",
   "metadata": {},
   "outputs": [
    {
     "data": {
      "text/plain": [
       "'r'"
      ]
     },
     "execution_count": 81,
     "metadata": {},
     "output_type": "execute_result"
    }
   ],
   "source": [
    "text[-1:]"
   ]
  },
  {
   "cell_type": "code",
   "execution_count": null,
   "id": "0db31cb2",
   "metadata": {},
   "outputs": [],
   "source": []
  }
 ],
 "metadata": {
  "kernelspec": {
   "display_name": "Python 3 (ipykernel)",
   "language": "python",
   "name": "python3"
  },
  "language_info": {
   "codemirror_mode": {
    "name": "ipython",
    "version": 3
   },
   "file_extension": ".py",
   "mimetype": "text/x-python",
   "name": "python",
   "nbconvert_exporter": "python",
   "pygments_lexer": "ipython3",
   "version": "3.10.9"
  }
 },
 "nbformat": 4,
 "nbformat_minor": 5
}
