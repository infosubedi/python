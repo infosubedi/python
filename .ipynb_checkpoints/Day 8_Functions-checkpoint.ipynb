{
 "cells": [
  {
   "cell_type": "markdown",
   "id": "44a2e282",
   "metadata": {},
   "source": [
    "# Functions"
   ]
  },
  {
   "cell_type": "code",
   "execution_count": 1,
   "id": "bf381567",
   "metadata": {},
   "outputs": [],
   "source": [
    "def add():\n",
    "    print('The function is working')"
   ]
  },
  {
   "cell_type": "code",
   "execution_count": 2,
   "id": "15811e5e",
   "metadata": {},
   "outputs": [
    {
     "name": "stdout",
     "output_type": "stream",
     "text": [
      "The function is working\n"
     ]
    }
   ],
   "source": [
    "add()"
   ]
  },
  {
   "cell_type": "code",
   "execution_count": 3,
   "id": "c113b53e",
   "metadata": {},
   "outputs": [],
   "source": [
    "def test(a,b,c,d,e):\n",
    "    x=a+b-c\n",
    "    y=x+d+e\n",
    "    print(y)"
   ]
  },
  {
   "cell_type": "code",
   "execution_count": 4,
   "id": "6b756cc8",
   "metadata": {
    "scrolled": true
   },
   "outputs": [
    {
     "name": "stdout",
     "output_type": "stream",
     "text": [
      "9\n"
     ]
    }
   ],
   "source": [
    "test(1,2,3,4,5)"
   ]
  },
  {
   "cell_type": "code",
   "execution_count": 5,
   "id": "9cb665b6",
   "metadata": {},
   "outputs": [],
   "source": [
    "# x & y are Argument\n",
    "def diff(x,y):\n",
    "    print(x-y)"
   ]
  },
  {
   "cell_type": "code",
   "execution_count": 6,
   "id": "3ac9c87a",
   "metadata": {},
   "outputs": [
    {
     "name": "stdout",
     "output_type": "stream",
     "text": [
      "36\n"
     ]
    }
   ],
   "source": [
    "diff(40,4) #values are Parameters"
   ]
  },
  {
   "cell_type": "code",
   "execution_count": 7,
   "id": "7d870bf3",
   "metadata": {},
   "outputs": [],
   "source": [
    "def test(*val):\n",
    "    x=val[0]-val[1]\n",
    "    y=x-val[2]+val[3]+val[4]\n",
    "    print(y)"
   ]
  },
  {
   "cell_type": "code",
   "execution_count": 10,
   "id": "d8273022",
   "metadata": {},
   "outputs": [
    {
     "ename": "IndexError",
     "evalue": "tuple index out of range",
     "output_type": "error",
     "traceback": [
      "\u001b[1;31m---------------------------------------------------------------------------\u001b[0m",
      "\u001b[1;31mIndexError\u001b[0m                                Traceback (most recent call last)",
      "Cell \u001b[1;32mIn[10], line 1\u001b[0m\n\u001b[1;32m----> 1\u001b[0m \u001b[43mtest\u001b[49m\u001b[43m(\u001b[49m\u001b[38;5;241;43m30\u001b[39;49m\u001b[43m,\u001b[49m\u001b[38;5;241;43m40\u001b[39;49m\u001b[43m,\u001b[49m\u001b[38;5;241;43m50\u001b[39;49m\u001b[43m)\u001b[49m\n",
      "Cell \u001b[1;32mIn[7], line 3\u001b[0m, in \u001b[0;36mtest\u001b[1;34m(*val)\u001b[0m\n\u001b[0;32m      1\u001b[0m \u001b[38;5;28;01mdef\u001b[39;00m \u001b[38;5;21mtest\u001b[39m(\u001b[38;5;241m*\u001b[39mval):\n\u001b[0;32m      2\u001b[0m     x\u001b[38;5;241m=\u001b[39mval[\u001b[38;5;241m0\u001b[39m]\u001b[38;5;241m-\u001b[39mval[\u001b[38;5;241m1\u001b[39m]\n\u001b[1;32m----> 3\u001b[0m     y\u001b[38;5;241m=\u001b[39mx\u001b[38;5;241m-\u001b[39mval[\u001b[38;5;241m2\u001b[39m]\u001b[38;5;241m+\u001b[39m\u001b[43mval\u001b[49m\u001b[43m[\u001b[49m\u001b[38;5;241;43m3\u001b[39;49m\u001b[43m]\u001b[49m\u001b[38;5;241m+\u001b[39mval[\u001b[38;5;241m4\u001b[39m]\n\u001b[0;32m      4\u001b[0m     \u001b[38;5;28mprint\u001b[39m(y)\n",
      "\u001b[1;31mIndexError\u001b[0m: tuple index out of range"
     ]
    }
   ],
   "source": [
    "test(30,40,50)"
   ]
  },
  {
   "cell_type": "code",
   "execution_count": 25,
   "id": "47949773",
   "metadata": {},
   "outputs": [],
   "source": [
    "def status(city='Kathmandu', name='Pradip', age=27):\n",
    "    print(f'I live in {city}. I am {name} and my age is {age}')"
   ]
  },
  {
   "cell_type": "code",
   "execution_count": 29,
   "id": "af9dff70",
   "metadata": {},
   "outputs": [
    {
     "name": "stdout",
     "output_type": "stream",
     "text": [
      "I live in Kathmandu. I am Pradip and my age is 27\n"
     ]
    }
   ],
   "source": [
    "status()"
   ]
  },
  {
   "cell_type": "code",
   "execution_count": 27,
   "id": "4b30c290",
   "metadata": {},
   "outputs": [],
   "source": [
    "def status1(city, name, age):\n",
    "    print(f'I live in {city}. I am {name} and my age is {age}')"
   ]
  },
  {
   "cell_type": "code",
   "execution_count": 28,
   "id": "77b7e56e",
   "metadata": {},
   "outputs": [
    {
     "name": "stdout",
     "output_type": "stream",
     "text": [
      "I live in Gaindakot. I am Pradip Subedi and my age is 31\n"
     ]
    }
   ],
   "source": [
    "status1('Gaindakot','Pradip Subedi',31)"
   ]
  },
  {
   "cell_type": "code",
   "execution_count": 30,
   "id": "9fce1612",
   "metadata": {},
   "outputs": [
    {
     "name": "stdout",
     "output_type": "stream",
     "text": [
      "I live in Gaindakot. I am Pradip Subedi and my age is 27\n"
     ]
    }
   ],
   "source": [
    "status('Gaindakot','Pradip Subedi')"
   ]
  },
  {
   "cell_type": "code",
   "execution_count": 33,
   "id": "c1832c5c",
   "metadata": {},
   "outputs": [
    {
     "name": "stdout",
     "output_type": "stream",
     "text": [
      "I live in Dhaula. I am Pradip Subedi and my age is 27\n"
     ]
    }
   ],
   "source": [
    "status('Dhaula','Pradip Subedi')"
   ]
  },
  {
   "cell_type": "code",
   "execution_count": 34,
   "id": "afbae8ca",
   "metadata": {},
   "outputs": [],
   "source": [
    "def status_new(city='Kathmandu', name='Pradip', age=27):\n",
    "    print(f'I live in {city}. I am {name} and my age is {age}')"
   ]
  },
  {
   "cell_type": "code",
   "execution_count": 35,
   "id": "1170932e",
   "metadata": {},
   "outputs": [
    {
     "name": "stdout",
     "output_type": "stream",
     "text": [
      "I live in Kathmandu. I am Gaida and my age is 27\n"
     ]
    }
   ],
   "source": [
    "status(name='Gaida')"
   ]
  },
  {
   "cell_type": "code",
   "execution_count": 36,
   "id": "6cc03218",
   "metadata": {},
   "outputs": [],
   "source": [
    "def test(**val):\n",
    "    print(val['name'],val['age'])"
   ]
  },
  {
   "cell_type": "code",
   "execution_count": 37,
   "id": "6ac0d830",
   "metadata": {},
   "outputs": [
    {
     "name": "stdout",
     "output_type": "stream",
     "text": [
      "pradip 54\n"
     ]
    }
   ],
   "source": [
    "test(name='pradip',age=54,city='gaindakot')"
   ]
  },
  {
   "cell_type": "code",
   "execution_count": 40,
   "id": "a30f7079",
   "metadata": {},
   "outputs": [],
   "source": [
    "def test(*args):\n",
    "    for i in args:\n",
    "        print(i)"
   ]
  },
  {
   "cell_type": "code",
   "execution_count": 41,
   "id": "68d164d2",
   "metadata": {},
   "outputs": [
    {
     "name": "stdout",
     "output_type": "stream",
     "text": [
      "1\n",
      "2\n",
      "3\n",
      "4\n",
      "5\n",
      "8\n"
     ]
    }
   ],
   "source": [
    "test(1,2,3,4,5,8)"
   ]
  },
  {
   "cell_type": "code",
   "execution_count": 13,
   "id": "b899bebe",
   "metadata": {},
   "outputs": [],
   "source": [
    "def test1(**args):\n",
    "    for i,j in args.items():\n",
    "        print(f'{i} is keyword and {j} is value')"
   ]
  },
  {
   "cell_type": "code",
   "execution_count": 14,
   "id": "281b6bbf",
   "metadata": {},
   "outputs": [
    {
     "name": "stdout",
     "output_type": "stream",
     "text": [
      "name is keyword and pradip is value\n",
      "age is keyword and 54 is value\n",
      "city is keyword and gaindakot is value\n",
      "hobbies is keyword and badmintond is value\n"
     ]
    }
   ],
   "source": [
    "test1(name='pradip',age=54,city='gaindakot', hobbies='badmintond')"
   ]
  },
  {
   "cell_type": "code",
   "execution_count": 15,
   "id": "30866ae1",
   "metadata": {},
   "outputs": [],
   "source": [
    "#write a program to calculate the simple interest"
   ]
  },
  {
   "cell_type": "code",
   "execution_count": 19,
   "id": "2d8dcdb4",
   "metadata": {},
   "outputs": [
    {
     "name": "stdout",
     "output_type": "stream",
     "text": [
      "Enter the Principal amount: 100\n",
      "Enter the time: 2\n",
      "Enter the the Rate of Interest: 4\n"
     ]
    }
   ],
   "source": [
    "def int_cal(p,t,r):\n",
    "    i=(p*t*r)/100\n",
    "    print(f'Total interest of {p} is {i}')"
   ]
  },
  {
   "cell_type": "code",
   "execution_count": 22,
   "id": "2462d777",
   "metadata": {},
   "outputs": [
    {
     "name": "stdout",
     "output_type": "stream",
     "text": [
      "Enter the Principal amount: 10000\n",
      "Enter the time: 3\n",
      "Enter the the Rate of Interest: 10\n",
      "Total interest of 10000 is 3000.0\n"
     ]
    }
   ],
   "source": [
    "p=int(input(\"Enter the Principal amount: \"))\n",
    "t=int(input(\"Enter the time: \"))\n",
    "r=int(input(\"Enter the the Rate of Interest: \"))\n",
    "int_cal(p,t,r)"
   ]
  },
  {
   "cell_type": "code",
   "execution_count": null,
   "id": "47708e12",
   "metadata": {},
   "outputs": [],
   "source": []
  }
 ],
 "metadata": {
  "kernelspec": {
   "display_name": "Python 3 (ipykernel)",
   "language": "python",
   "name": "python3"
  },
  "language_info": {
   "codemirror_mode": {
    "name": "ipython",
    "version": 3
   },
   "file_extension": ".py",
   "mimetype": "text/x-python",
   "name": "python",
   "nbconvert_exporter": "python",
   "pygments_lexer": "ipython3",
   "version": "3.10.9"
  }
 },
 "nbformat": 4,
 "nbformat_minor": 5
}
