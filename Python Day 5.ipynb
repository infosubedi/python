{
 "cells": [
  {
   "cell_type": "markdown",
   "id": "9eaf1bac",
   "metadata": {},
   "source": [
    "# Touple"
   ]
  },
  {
   "cell_type": "code",
   "execution_count": 1,
   "id": "c74f5271",
   "metadata": {},
   "outputs": [],
   "source": [
    "tup=('Chitwan','Kathmandu','Butwal','Baglung')"
   ]
  },
  {
   "cell_type": "code",
   "execution_count": 2,
   "id": "36517869",
   "metadata": {},
   "outputs": [
    {
     "data": {
      "text/plain": [
       "tuple"
      ]
     },
     "execution_count": 2,
     "metadata": {},
     "output_type": "execute_result"
    }
   ],
   "source": [
    "type(tup)"
   ]
  },
  {
   "cell_type": "code",
   "execution_count": 3,
   "id": "f508b4ce",
   "metadata": {},
   "outputs": [
    {
     "name": "stdout",
     "output_type": "stream",
     "text": [
      "('Chitwan', 'Kathmandu', 'Butwal', 'Baglung')\n"
     ]
    }
   ],
   "source": [
    "print(tup)"
   ]
  },
  {
   "cell_type": "code",
   "execution_count": 4,
   "id": "2da2486c",
   "metadata": {},
   "outputs": [],
   "source": [
    "# Touple is indexed"
   ]
  },
  {
   "cell_type": "code",
   "execution_count": 5,
   "id": "115122e8",
   "metadata": {},
   "outputs": [
    {
     "data": {
      "text/plain": [
       "'Butwal'"
      ]
     },
     "execution_count": 5,
     "metadata": {},
     "output_type": "execute_result"
    }
   ],
   "source": [
    "tup[2]"
   ]
  },
  {
   "cell_type": "code",
   "execution_count": 6,
   "id": "61ab05d2",
   "metadata": {},
   "outputs": [
    {
     "ename": "TypeError",
     "evalue": "'tuple' object does not support item assignment",
     "output_type": "error",
     "traceback": [
      "\u001b[1;31m---------------------------------------------------------------------------\u001b[0m",
      "\u001b[1;31mTypeError\u001b[0m                                 Traceback (most recent call last)",
      "Cell \u001b[1;32mIn[6], line 1\u001b[0m\n\u001b[1;32m----> 1\u001b[0m tup[\u001b[38;5;241m2\u001b[39m]\u001b[38;5;241m=\u001b[39m\u001b[38;5;124m'\u001b[39m\u001b[38;5;124mNepalgunj\u001b[39m\u001b[38;5;124m'\u001b[39m\n",
      "\u001b[1;31mTypeError\u001b[0m: 'tuple' object does not support item assignment"
     ]
    }
   ],
   "source": [
    "tup[2]='Nepalgunj'"
   ]
  },
  {
   "cell_type": "code",
   "execution_count": 7,
   "id": "0795a7e6",
   "metadata": {},
   "outputs": [
    {
     "data": {
      "text/plain": [
       "4"
      ]
     },
     "execution_count": 7,
     "metadata": {},
     "output_type": "execute_result"
    }
   ],
   "source": [
    "len(tup)"
   ]
  },
  {
   "cell_type": "code",
   "execution_count": 10,
   "id": "ef0fdd72",
   "metadata": {},
   "outputs": [],
   "source": [
    "tup_t=tuple(('Chitwan','Kathmandu','Butwal','Baglung','Kawasoti'))"
   ]
  },
  {
   "cell_type": "code",
   "execution_count": 11,
   "id": "77542b95",
   "metadata": {},
   "outputs": [
    {
     "data": {
      "text/plain": [
       "('Chitwan', 'Kathmandu', 'Butwal', 'Baglung', 'Kawasoti')"
      ]
     },
     "execution_count": 11,
     "metadata": {},
     "output_type": "execute_result"
    }
   ],
   "source": [
    "tup_t"
   ]
  },
  {
   "cell_type": "code",
   "execution_count": 15,
   "id": "4f9f011e",
   "metadata": {},
   "outputs": [
    {
     "data": {
      "text/plain": [
       "('Baglung', 'Kawasoti')"
      ]
     },
     "execution_count": 15,
     "metadata": {},
     "output_type": "execute_result"
    }
   ],
   "source": [
    "tup_t[-2:]"
   ]
  },
  {
   "cell_type": "code",
   "execution_count": 16,
   "id": "f4c4b664",
   "metadata": {},
   "outputs": [
    {
     "data": {
      "text/plain": [
       "('Baglung',)"
      ]
     },
     "execution_count": 16,
     "metadata": {},
     "output_type": "execute_result"
    }
   ],
   "source": [
    "tup[-1:]"
   ]
  },
  {
   "cell_type": "markdown",
   "id": "770b8658",
   "metadata": {},
   "source": [
    "# Element of Tuple is Unchangeable"
   ]
  },
  {
   "cell_type": "code",
   "execution_count": 17,
   "id": "1cdb0f98",
   "metadata": {},
   "outputs": [
    {
     "ename": "TypeError",
     "evalue": "'tuple' object does not support item assignment",
     "output_type": "error",
     "traceback": [
      "\u001b[1;31m---------------------------------------------------------------------------\u001b[0m",
      "\u001b[1;31mTypeError\u001b[0m                                 Traceback (most recent call last)",
      "Cell \u001b[1;32mIn[17], line 1\u001b[0m\n\u001b[1;32m----> 1\u001b[0m tup_t[\u001b[38;5;241m2\u001b[39m]\u001b[38;5;241m=\u001b[39m\u001b[38;5;124m'\u001b[39m\u001b[38;5;124mNepalgunj\u001b[39m\u001b[38;5;124m'\u001b[39m\n",
      "\u001b[1;31mTypeError\u001b[0m: 'tuple' object does not support item assignment"
     ]
    }
   ],
   "source": [
    "tup_t[2]='Nepalgunj'"
   ]
  },
  {
   "cell_type": "code",
   "execution_count": 18,
   "id": "79e6f867",
   "metadata": {},
   "outputs": [
    {
     "ename": "AttributeError",
     "evalue": "'tuple' object has no attribute 'insert'",
     "output_type": "error",
     "traceback": [
      "\u001b[1;31m---------------------------------------------------------------------------\u001b[0m",
      "\u001b[1;31mAttributeError\u001b[0m                            Traceback (most recent call last)",
      "Cell \u001b[1;32mIn[18], line 1\u001b[0m\n\u001b[1;32m----> 1\u001b[0m \u001b[43mtup_t\u001b[49m\u001b[38;5;241;43m.\u001b[39;49m\u001b[43minsert\u001b[49m(\u001b[38;5;241m2\u001b[39m,\u001b[38;5;124m'\u001b[39m\u001b[38;5;124mNepalgunj\u001b[39m\u001b[38;5;124m'\u001b[39m)\n",
      "\u001b[1;31mAttributeError\u001b[0m: 'tuple' object has no attribute 'insert'"
     ]
    }
   ],
   "source": [
    "tup_t.insert(2,'Nepalgunj')"
   ]
  },
  {
   "cell_type": "code",
   "execution_count": 22,
   "id": "17d97cad",
   "metadata": {},
   "outputs": [
    {
     "name": "stdout",
     "output_type": "stream",
     "text": [
      "Chitwan\n",
      "Kathmandu\n",
      "Butwal\n",
      "Baglung\n",
      "Kawasoti\n"
     ]
    }
   ],
   "source": [
    "for i in tup_t:\n",
    "    print(i)"
   ]
  },
  {
   "cell_type": "code",
   "execution_count": 23,
   "id": "3702c6b6",
   "metadata": {},
   "outputs": [],
   "source": [
    "list_tup=list(tup_t)"
   ]
  },
  {
   "cell_type": "code",
   "execution_count": 24,
   "id": "f659c443",
   "metadata": {},
   "outputs": [],
   "source": [
    "list_tup[2]='Nepalgung'"
   ]
  },
  {
   "cell_type": "code",
   "execution_count": 25,
   "id": "bc488b71",
   "metadata": {},
   "outputs": [],
   "source": [
    "tup_t=tuple(list_tup)"
   ]
  },
  {
   "cell_type": "code",
   "execution_count": 26,
   "id": "70b2edc6",
   "metadata": {},
   "outputs": [
    {
     "data": {
      "text/plain": [
       "('Chitwan', 'Kathmandu', 'Nepalgung', 'Baglung', 'Kawasoti')"
      ]
     },
     "execution_count": 26,
     "metadata": {},
     "output_type": "execute_result"
    }
   ],
   "source": [
    "tup_t"
   ]
  },
  {
   "cell_type": "code",
   "execution_count": 27,
   "id": "f9a41085",
   "metadata": {},
   "outputs": [],
   "source": [
    "city=('Makawanpur','Hetauda')"
   ]
  },
  {
   "cell_type": "code",
   "execution_count": 28,
   "id": "b173592a",
   "metadata": {},
   "outputs": [],
   "source": [
    "city=city+tup_t"
   ]
  },
  {
   "cell_type": "code",
   "execution_count": 29,
   "id": "0a4fc516",
   "metadata": {},
   "outputs": [
    {
     "data": {
      "text/plain": [
       "('Makawanpur',\n",
       " 'Hetauda',\n",
       " 'Chitwan',\n",
       " 'Kathmandu',\n",
       " 'Nepalgung',\n",
       " 'Baglung',\n",
       " 'Kawasoti')"
      ]
     },
     "execution_count": 29,
     "metadata": {},
     "output_type": "execute_result"
    }
   ],
   "source": [
    "city"
   ]
  },
  {
   "cell_type": "code",
   "execution_count": 30,
   "id": "a9954b7e",
   "metadata": {},
   "outputs": [],
   "source": [
    "# Value unpack"
   ]
  },
  {
   "cell_type": "code",
   "execution_count": 36,
   "id": "cb2970db",
   "metadata": {},
   "outputs": [
    {
     "name": "stdout",
     "output_type": "stream",
     "text": [
      "Makawanpur\n",
      "Hetauda\n"
     ]
    }
   ],
   "source": [
    "(a,b,c,d,e,f,g)=city\n",
    "print(a)\n",
    "print(b)"
   ]
  },
  {
   "cell_type": "code",
   "execution_count": 37,
   "id": "2dd72bcf",
   "metadata": {},
   "outputs": [
    {
     "name": "stdout",
     "output_type": "stream",
     "text": [
      "['Chitwan', 'Kathmandu', 'Nepalgung', 'Baglung', 'Kawasoti']\n"
     ]
    }
   ],
   "source": [
    "(a,b,*c)=city\n",
    "print(c)"
   ]
  },
  {
   "cell_type": "markdown",
   "id": "e76a777d",
   "metadata": {},
   "source": [
    "# Loop"
   ]
  },
  {
   "cell_type": "code",
   "execution_count": 38,
   "id": "2b6667fd",
   "metadata": {},
   "outputs": [
    {
     "name": "stdout",
     "output_type": "stream",
     "text": [
      "Makawanpur\n",
      "Hetauda\n",
      "Chitwan\n",
      "Kathmandu\n",
      "Nepalgung\n",
      "Baglung\n",
      "Kawasoti\n"
     ]
    }
   ],
   "source": [
    "for i in city:\n",
    "    print(i)"
   ]
  },
  {
   "cell_type": "code",
   "execution_count": 44,
   "id": "5383075f",
   "metadata": {},
   "outputs": [
    {
     "name": "stdout",
     "output_type": "stream",
     "text": [
      "['Makawanpur']\n",
      "['Makawanpur', 'Hetauda']\n",
      "['Makawanpur', 'Hetauda', 'Chitwan']\n",
      "['Makawanpur', 'Hetauda', 'Chitwan', 'Kathmandu']\n",
      "['Makawanpur', 'Hetauda', 'Chitwan', 'Kathmandu', 'Nepalgung']\n"
     ]
    }
   ],
   "source": [
    "a=[]\n",
    "for i in range(5):\n",
    "    a.append(city[i])\n",
    "    print(a)"
   ]
  },
  {
   "cell_type": "code",
   "execution_count": 49,
   "id": "708f8e45",
   "metadata": {},
   "outputs": [
    {
     "name": "stdout",
     "output_type": "stream",
     "text": [
      "Makawanpur\n",
      "Hetauda\n",
      "Chitwan\n",
      "Kathmandu\n",
      "Nepalgung\n",
      "Baglung\n",
      "Kawasoti\n"
     ]
    }
   ],
   "source": [
    "for i in range(len(city)):\n",
    "    print(city[i])"
   ]
  },
  {
   "cell_type": "code",
   "execution_count": 50,
   "id": "51c4f40f",
   "metadata": {},
   "outputs": [
    {
     "data": {
      "text/plain": [
       "0"
      ]
     },
     "execution_count": 50,
     "metadata": {},
     "output_type": "execute_result"
    }
   ],
   "source": [
    "city.count('hetauda')"
   ]
  },
  {
   "cell_type": "code",
   "execution_count": 51,
   "id": "9fa08a0d",
   "metadata": {},
   "outputs": [
    {
     "data": {
      "text/plain": [
       "1"
      ]
     },
     "execution_count": 51,
     "metadata": {},
     "output_type": "execute_result"
    }
   ],
   "source": [
    "city.count('Hetauda')"
   ]
  },
  {
   "cell_type": "code",
   "execution_count": 52,
   "id": "af00df3f",
   "metadata": {},
   "outputs": [
    {
     "ename": "NameError",
     "evalue": "name 'Hetauda' is not defined",
     "output_type": "error",
     "traceback": [
      "\u001b[1;31m---------------------------------------------------------------------------\u001b[0m",
      "\u001b[1;31mNameError\u001b[0m                                 Traceback (most recent call last)",
      "Cell \u001b[1;32mIn[52], line 1\u001b[0m\n\u001b[1;32m----> 1\u001b[0m city\u001b[38;5;241m.\u001b[39mindex(\u001b[43mHetauda\u001b[49m)\n",
      "\u001b[1;31mNameError\u001b[0m: name 'Hetauda' is not defined"
     ]
    }
   ],
   "source": [
    "city.index(Hetauda)"
   ]
  },
  {
   "cell_type": "code",
   "execution_count": 53,
   "id": "58c47aa0",
   "metadata": {},
   "outputs": [
    {
     "data": {
      "text/plain": [
       "1"
      ]
     },
     "execution_count": 53,
     "metadata": {},
     "output_type": "execute_result"
    }
   ],
   "source": [
    "city.index('Hetauda')"
   ]
  },
  {
   "cell_type": "markdown",
   "id": "de384a05",
   "metadata": {},
   "source": [
    "# Sets"
   ]
  },
  {
   "cell_type": "code",
   "execution_count": 1,
   "id": "a48c6cf4",
   "metadata": {},
   "outputs": [],
   "source": [
    "a={1,3,4,34,23,35,56,78,4}"
   ]
  },
  {
   "cell_type": "code",
   "execution_count": 2,
   "id": "1294ebee",
   "metadata": {},
   "outputs": [
    {
     "data": {
      "text/plain": [
       "{1, 3, 4, 23, 34, 35, 56, 78}"
      ]
     },
     "execution_count": 2,
     "metadata": {},
     "output_type": "execute_result"
    }
   ],
   "source": [
    "a"
   ]
  },
  {
   "cell_type": "code",
   "execution_count": 3,
   "id": "9afc0b53",
   "metadata": {},
   "outputs": [
    {
     "name": "stdout",
     "output_type": "stream",
     "text": [
      "{1, 34, 3, 4, 35, 78, 23, 56}\n"
     ]
    }
   ],
   "source": [
    "print(a)"
   ]
  },
  {
   "cell_type": "code",
   "execution_count": 4,
   "id": "84e033a4",
   "metadata": {},
   "outputs": [
    {
     "name": "stdout",
     "output_type": "stream",
     "text": [
      "{1, 34, 3, 4, 35, 78, 23, 56}\n"
     ]
    }
   ],
   "source": [
    "print(a)"
   ]
  },
  {
   "cell_type": "code",
   "execution_count": 5,
   "id": "c87a9e41",
   "metadata": {},
   "outputs": [
    {
     "data": {
      "text/plain": [
       "{1, 3, 4, 23, 34, 35, 56, 78}"
      ]
     },
     "execution_count": 5,
     "metadata": {},
     "output_type": "execute_result"
    }
   ],
   "source": [
    "a"
   ]
  },
  {
   "cell_type": "code",
   "execution_count": 6,
   "id": "3c0601d0",
   "metadata": {},
   "outputs": [
    {
     "data": {
      "text/plain": [
       "8"
      ]
     },
     "execution_count": 6,
     "metadata": {},
     "output_type": "execute_result"
    }
   ],
   "source": [
    "len(a)"
   ]
  },
  {
   "cell_type": "code",
   "execution_count": 7,
   "id": "9c93c87c",
   "metadata": {},
   "outputs": [
    {
     "name": "stdout",
     "output_type": "stream",
     "text": [
      "1\n",
      "34\n",
      "3\n",
      "4\n",
      "35\n",
      "78\n",
      "23\n",
      "56\n"
     ]
    }
   ],
   "source": [
    "for i in a:\n",
    "    print(i)"
   ]
  },
  {
   "cell_type": "code",
   "execution_count": 8,
   "id": "a0013e01",
   "metadata": {},
   "outputs": [],
   "source": [
    "a.add(100)"
   ]
  },
  {
   "cell_type": "code",
   "execution_count": 9,
   "id": "1fdb2944",
   "metadata": {},
   "outputs": [
    {
     "data": {
      "text/plain": [
       "{1, 3, 4, 23, 34, 35, 56, 78, 100}"
      ]
     },
     "execution_count": 9,
     "metadata": {},
     "output_type": "execute_result"
    }
   ],
   "source": [
    "a"
   ]
  },
  {
   "cell_type": "code",
   "execution_count": 10,
   "id": "e99aba4b",
   "metadata": {},
   "outputs": [],
   "source": [
    "a.add('hello')"
   ]
  },
  {
   "cell_type": "code",
   "execution_count": 11,
   "id": "f671b245",
   "metadata": {},
   "outputs": [
    {
     "data": {
      "text/plain": [
       "{1, 100, 23, 3, 34, 35, 4, 56, 78, 'hello'}"
      ]
     },
     "execution_count": 11,
     "metadata": {},
     "output_type": "execute_result"
    }
   ],
   "source": [
    "a"
   ]
  },
  {
   "cell_type": "code",
   "execution_count": 12,
   "id": "61b02ae1",
   "metadata": {},
   "outputs": [
    {
     "ename": "AttributeError",
     "evalue": "'set' object has no attribute 'insert'",
     "output_type": "error",
     "traceback": [
      "\u001b[1;31m---------------------------------------------------------------------------\u001b[0m",
      "\u001b[1;31mAttributeError\u001b[0m                            Traceback (most recent call last)",
      "Cell \u001b[1;32mIn[12], line 1\u001b[0m\n\u001b[1;32m----> 1\u001b[0m \u001b[43ma\u001b[49m\u001b[38;5;241;43m.\u001b[39;49m\u001b[43minsert\u001b[49m(\u001b[38;5;241m2\u001b[39m,\u001b[38;5;124m'\u001b[39m\u001b[38;5;124mpradip\u001b[39m\u001b[38;5;124m'\u001b[39m)\n",
      "\u001b[1;31mAttributeError\u001b[0m: 'set' object has no attribute 'insert'"
     ]
    }
   ],
   "source": [
    "a.insert(2,'pradip')"
   ]
  },
  {
   "cell_type": "code",
   "execution_count": 13,
   "id": "f7021e2a",
   "metadata": {},
   "outputs": [
    {
     "data": {
      "text/plain": [
       "{1, 100, 23, 3, 34, 35, 4, 56, 78, 'hello'}"
      ]
     },
     "execution_count": 13,
     "metadata": {},
     "output_type": "execute_result"
    }
   ],
   "source": [
    "a"
   ]
  },
  {
   "cell_type": "code",
   "execution_count": 14,
   "id": "3472198f",
   "metadata": {},
   "outputs": [],
   "source": [
    "b={101,102,103}"
   ]
  },
  {
   "cell_type": "code",
   "execution_count": 15,
   "id": "3fb41d8b",
   "metadata": {},
   "outputs": [],
   "source": [
    "a.update(b)"
   ]
  },
  {
   "cell_type": "code",
   "execution_count": 16,
   "id": "cbc801c5",
   "metadata": {},
   "outputs": [
    {
     "data": {
      "text/plain": [
       "{1, 100, 101, 102, 103, 23, 3, 34, 35, 4, 56, 78, 'hello'}"
      ]
     },
     "execution_count": 16,
     "metadata": {},
     "output_type": "execute_result"
    }
   ],
   "source": [
    "a"
   ]
  },
  {
   "cell_type": "code",
   "execution_count": 18,
   "id": "f5a63603",
   "metadata": {},
   "outputs": [],
   "source": [
    "a.remove(100)"
   ]
  },
  {
   "cell_type": "code",
   "execution_count": 19,
   "id": "6ad1aadb",
   "metadata": {},
   "outputs": [],
   "source": [
    "a.clear()"
   ]
  },
  {
   "cell_type": "code",
   "execution_count": 20,
   "id": "74dd7a0b",
   "metadata": {},
   "outputs": [
    {
     "data": {
      "text/plain": [
       "set()"
      ]
     },
     "execution_count": 20,
     "metadata": {},
     "output_type": "execute_result"
    }
   ],
   "source": [
    "a"
   ]
  },
  {
   "cell_type": "markdown",
   "id": "3dbfb5d1",
   "metadata": {},
   "source": [
    "# Joining set"
   ]
  },
  {
   "cell_type": "code",
   "execution_count": 21,
   "id": "b573d895",
   "metadata": {},
   "outputs": [],
   "source": [
    "a={1,3,4,34,23,35,56,78,4}"
   ]
  },
  {
   "cell_type": "code",
   "execution_count": 28,
   "id": "049a77c0",
   "metadata": {},
   "outputs": [],
   "source": [
    "b={101,102,103,3,4}\n",
    "c=(45,65,'hello',3,4)\n",
    "d=[201,202,203]"
   ]
  },
  {
   "cell_type": "code",
   "execution_count": 29,
   "id": "e8f4430e",
   "metadata": {},
   "outputs": [
    {
     "data": {
      "text/plain": [
       "{1, 3, 4, 23, 34, 35, 56, 78, 101, 102, 103}"
      ]
     },
     "execution_count": 29,
     "metadata": {},
     "output_type": "execute_result"
    }
   ],
   "source": [
    "a.union(b)"
   ]
  },
  {
   "cell_type": "code",
   "execution_count": 30,
   "id": "cfbe28e8",
   "metadata": {},
   "outputs": [
    {
     "data": {
      "text/plain": [
       "{3, 4}"
      ]
     },
     "execution_count": 30,
     "metadata": {},
     "output_type": "execute_result"
    }
   ],
   "source": [
    "a.intersection(b)"
   ]
  },
  {
   "cell_type": "code",
   "execution_count": 31,
   "id": "9a1a8f8e",
   "metadata": {},
   "outputs": [
    {
     "data": {
      "text/plain": [
       "{1, 23, 3, 34, 35, 4, 45, 56, 65, 78, 'hello'}"
      ]
     },
     "execution_count": 31,
     "metadata": {},
     "output_type": "execute_result"
    }
   ],
   "source": [
    "a.union(c)"
   ]
  },
  {
   "cell_type": "code",
   "execution_count": 32,
   "id": "35b26e8a",
   "metadata": {},
   "outputs": [
    {
     "data": {
      "text/plain": [
       "{3, 4}"
      ]
     },
     "execution_count": 32,
     "metadata": {},
     "output_type": "execute_result"
    }
   ],
   "source": [
    "a.intersection(c)"
   ]
  },
  {
   "cell_type": "code",
   "execution_count": 35,
   "id": "65ec01c8",
   "metadata": {},
   "outputs": [
    {
     "data": {
      "text/plain": [
       "{1, 23, 34, 35, 56, 78}"
      ]
     },
     "execution_count": 35,
     "metadata": {},
     "output_type": "execute_result"
    }
   ],
   "source": [
    "a-b"
   ]
  },
  {
   "cell_type": "code",
   "execution_count": null,
   "id": "d2a65101",
   "metadata": {},
   "outputs": [],
   "source": []
  }
 ],
 "metadata": {
  "kernelspec": {
   "display_name": "Python 3 (ipykernel)",
   "language": "python",
   "name": "python3"
  },
  "language_info": {
   "codemirror_mode": {
    "name": "ipython",
    "version": 3
   },
   "file_extension": ".py",
   "mimetype": "text/x-python",
   "name": "python",
   "nbconvert_exporter": "python",
   "pygments_lexer": "ipython3",
   "version": "3.10.9"
  }
 },
 "nbformat": 4,
 "nbformat_minor": 5
}
