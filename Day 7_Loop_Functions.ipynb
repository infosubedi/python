{
 "cells": [
  {
   "cell_type": "code",
   "execution_count": 1,
   "id": "08d19d84",
   "metadata": {},
   "outputs": [
    {
     "name": "stdout",
     "output_type": "stream",
     "text": [
      "0\n",
      "1\n",
      "2\n",
      "3\n",
      "4\n",
      "5\n",
      "6\n",
      "7\n",
      "8\n",
      "9\n"
     ]
    }
   ],
   "source": [
    "a=0\n",
    "while a<10:\n",
    "    print(a)\n",
    "    a=a+1"
   ]
  },
  {
   "cell_type": "code",
   "execution_count": 8,
   "id": "7146e82d",
   "metadata": {},
   "outputs": [
    {
     "name": "stdout",
     "output_type": "stream",
     "text": [
      "0 is an even number \n",
      "1 is odd number \n",
      "2 is an even number \n",
      "3 is odd number \n",
      "4 is an even number \n",
      "5 is odd number \n",
      "6 is an even number \n",
      "7 is odd number \n",
      "8 is an even number \n",
      "9 is odd number \n"
     ]
    }
   ],
   "source": [
    "a=0\n",
    "while a<10:\n",
    "    if a%2==0:\n",
    "        print(f'{a} is an even number ')\n",
    "        a+=1\n",
    "    else:\n",
    "        print \n",
    "        print(f'{a} is odd number ')\n",
    "        a+=1"
   ]
  },
  {
   "cell_type": "code",
   "execution_count": 9,
   "id": "39f3e6d9",
   "metadata": {},
   "outputs": [
    {
     "name": "stdout",
     "output_type": "stream",
     "text": [
      "0 is either even or Odd number \n",
      "1 is odd number \n",
      "2 is an even number \n",
      "3 is odd number \n",
      "4 is an even number \n",
      "5 is odd number \n",
      "6 is an even number \n",
      "7 is odd number \n",
      "8 is an even number \n",
      "9 is odd number \n"
     ]
    }
   ],
   "source": [
    "a=0\n",
    "while a<10:\n",
    "    if a==0:\n",
    "        print(f'{a} is either even or Odd number ')\n",
    "        a+=1\n",
    "    elif a%2==0:\n",
    "        print(f'{a} is an even number ')\n",
    "        a+=1\n",
    "    else:\n",
    "        print \n",
    "        print(f'{a} is odd number ')\n",
    "        a+=1"
   ]
  },
  {
   "cell_type": "code",
   "execution_count": 19,
   "id": "bfb5a229",
   "metadata": {},
   "outputs": [
    {
     "name": "stdout",
     "output_type": "stream",
     "text": [
      "Total Bill is 28\n",
      "The average 4.0\n"
     ]
    }
   ],
   "source": [
    "bill=[1,2,3,4,5,6,7]\n",
    "total_bill=0\n",
    "for a in bill:\n",
    "    total_bill+=a\n",
    "print(f'Total Bill is {total_bill}')\n",
    "print(f'The average {total_bill/len(bill)}')"
   ]
  },
  {
   "cell_type": "markdown",
   "id": "9c78a319",
   "metadata": {},
   "source": [
    ". Sum of N Natural Numbers (For Loop)\n",
    "Write a Python program to calculate the sum of the first n natural numbers using a for loop. Example: Input: 5 Output: 15\n",
    "2. Factorial Calculation (While Loop)\n",
    "Write a Python program to find the factorial of a given number using a while loop. Example: Input: 4 Output: 24\n",
    "3. Multiplication Table (For Loop)\n",
    "Write a Python program that prints the multiplication table of a given number using a for loop. Example: Input: 3 Output:"
   ]
  },
  {
   "cell_type": "code",
   "execution_count": 32,
   "id": "c4c5a437",
   "metadata": {},
   "outputs": [
    {
     "name": "stdout",
     "output_type": "stream",
     "text": [
      "The sum of natural numbers is 1\n",
      "The sum of natural numbers is 3\n",
      "The sum of natural numbers is 6\n",
      "The sum of natural numbers is 10\n",
      "The sum of natural numbers is 15\n",
      "The sum of natural numbers is 21\n",
      "The sum of natural numbers is 28\n",
      "The sum of natural numbers is 36\n",
      "The sum of natural numbers is 45\n",
      "The sum of natural numbers is 55\n",
      "The sum of natural numbers is 66\n",
      "The sum of natural numbers is 78\n",
      "The sum of natural numbers is 91\n",
      "The sum of natural numbers is 105\n",
      "The sum of natural numbers is 120\n",
      "The sum of natural numbers is 136\n",
      "The sum of natural numbers is 153\n",
      "The sum of natural numbers is 171\n",
      "The sum of natural numbers is 190\n",
      "The sum of natural numbers is 210\n",
      "The sum of natural numbers is 231\n",
      "The sum of natural numbers is 253\n",
      "The sum of natural numbers is 276\n",
      "The sum of natural numbers is 300\n",
      "The sum of natural numbers is 325\n",
      "The sum of natural numbers is 351\n",
      "The sum of natural numbers is 378\n",
      "The sum of natural numbers is 406\n",
      "The sum of natural numbers is 435\n",
      "The sum of natural numbers is 465\n",
      "The sum of natural numbers is 496\n",
      "The sum of natural numbers is 528\n",
      "The sum of natural numbers is 561\n",
      "The sum of natural numbers is 595\n",
      "The sum of natural numbers is 630\n",
      "The sum of natural numbers is 666\n",
      "The sum of natural numbers is 703\n",
      "The sum of natural numbers is 741\n",
      "The sum of natural numbers is 780\n",
      "The sum of natural numbers is 820\n",
      "The sum of natural numbers is 861\n",
      "The sum of natural numbers is 903\n",
      "The sum of natural numbers is 946\n",
      "The sum of natural numbers is 990\n",
      "The sum of natural numbers is 1035\n",
      "The sum of natural numbers is 1081\n",
      "The sum of natural numbers is 1128\n",
      "The sum of natural numbers is 1176\n",
      "The sum of natural numbers is 1225\n",
      "The sum of natural numbers is 1275\n",
      "The sum of natural numbers is 1326\n",
      "The sum of natural numbers is 1378\n",
      "The sum of natural numbers is 1431\n",
      "The sum of natural numbers is 1485\n",
      "The sum of natural numbers is 1540\n",
      "The sum of natural numbers is 1596\n",
      "The sum of natural numbers is 1653\n",
      "The sum of natural numbers is 1711\n",
      "The sum of natural numbers is 1770\n",
      "The sum of natural numbers is 1830\n",
      "The sum of natural numbers is 1891\n",
      "The sum of natural numbers is 1953\n",
      "The sum of natural numbers is 2016\n",
      "The sum of natural numbers is 2080\n",
      "The sum of natural numbers is 2145\n",
      "The sum of natural numbers is 2211\n",
      "The sum of natural numbers is 2278\n",
      "The sum of natural numbers is 2346\n",
      "The sum of natural numbers is 2415\n",
      "The sum of natural numbers is 2485\n",
      "The sum of natural numbers is 2556\n",
      "The sum of natural numbers is 2628\n",
      "The sum of natural numbers is 2701\n",
      "The sum of natural numbers is 2775\n",
      "The sum of natural numbers is 2850\n",
      "The sum of natural numbers is 2926\n",
      "The sum of natural numbers is 3003\n",
      "The sum of natural numbers is 3081\n",
      "The sum of natural numbers is 3160\n",
      "The sum of natural numbers is 3240\n",
      "The sum of natural numbers is 3321\n",
      "The sum of natural numbers is 3403\n",
      "The sum of natural numbers is 3486\n",
      "The sum of natural numbers is 3570\n",
      "The sum of natural numbers is 3655\n",
      "The sum of natural numbers is 3741\n",
      "The sum of natural numbers is 3828\n",
      "The sum of natural numbers is 3916\n",
      "The sum of natural numbers is 4005\n",
      "The sum of natural numbers is 4095\n",
      "The sum of natural numbers is 4186\n",
      "The sum of natural numbers is 4278\n",
      "The sum of natural numbers is 4371\n",
      "The sum of natural numbers is 4465\n",
      "The sum of natural numbers is 4560\n",
      "The sum of natural numbers is 4656\n",
      "The sum of natural numbers is 4753\n",
      "The sum of natural numbers is 4851\n",
      "The sum of natural numbers is 4950\n",
      "The sum of natural numbers is 5050\n"
     ]
    }
   ],
   "source": [
    "n=100\n",
    "if n<0:\n",
    "    print('Only Positive Number')\n",
    "else:\n",
    "   sum = 0\n",
    "for a in range(1, n+1):\n",
    "    sum += a\n",
    "    print(f'The sum of natural numbers is {sum}')"
   ]
  },
  {
   "cell_type": "code",
   "execution_count": 34,
   "id": "57763ff1",
   "metadata": {},
   "outputs": [
    {
     "name": "stdout",
     "output_type": "stream",
     "text": [
      "Enter the positive number5\n",
      " The sum of natural number 5 is 15\n"
     ]
    }
   ],
   "source": [
    "num=int(input('Enter the positive number'))\n",
    "sum=0\n",
    "for i in range(num+1):\n",
    "    sum=sum+i\n",
    "print(f' The sum of natural number {num} is {sum}')"
   ]
  },
  {
   "cell_type": "markdown",
   "id": "0053085e",
   "metadata": {},
   "source": [
    "2. Factorial Calculation (While Loop) Write a Python program to find the factorial of a given number using a while loop. Example: Input: 4 Output: 24"
   ]
  },
  {
   "cell_type": "code",
   "execution_count": 4,
   "id": "12bfb981",
   "metadata": {},
   "outputs": [
    {
     "name": "stdout",
     "output_type": "stream",
     "text": [
      "Enter the number4\n",
      "Factorial of 0 is 24\n"
     ]
    }
   ],
   "source": [
    "fac_n=int(input('Enter the number'))\n",
    "fact=1\n",
    "while fac_n>0:\n",
    "    fact = fac_n*fact\n",
    "    fac_n -= 1\n",
    "print(f'Factorial of {fac_n} is {fact}')"
   ]
  },
  {
   "cell_type": "code",
   "execution_count": 2,
   "id": "2b0d2522",
   "metadata": {},
   "outputs": [
    {
     "name": "stdout",
     "output_type": "stream",
     "text": [
      "enter the number: 4\n",
      "The factorial of 0 is 24\n"
     ]
    }
   ],
   "source": [
    "userInput = int(input(\"enter the number: \"))\n",
    "factorial = 1\n",
    "while userInput > 0:\n",
    "    factorial *= userInput\n",
    "    userInput -= 1\n",
    "print(f\"The factorial of {userInput} is {factorial}\")"
   ]
  },
  {
   "cell_type": "code",
   "execution_count": 4,
   "id": "2499a84e",
   "metadata": {},
   "outputs": [
    {
     "name": "stdout",
     "output_type": "stream",
     "text": [
      "Enter the string you want to reverse: hello\n",
      "olleh\n"
     ]
    }
   ],
   "source": [
    "#reverese string\n",
    "string=input('Enter the string you want to reverse: ')\n",
    "e_str=\"\"\n",
    "for i in string:\n",
    "    e_str=i+e_str\n",
    "print(e_str)"
   ]
  },
  {
   "cell_type": "code",
   "execution_count": 1,
   "id": "07381baf",
   "metadata": {},
   "outputs": [
    {
     "name": "stdout",
     "output_type": "stream",
     "text": [
      "Enter the string you want to reverse: hello\n",
      "olleh\n"
     ]
    }
   ],
   "source": [
    "#whileloop\n",
    "string=input('Enter the string you want to reverse: ')\n",
    "e_str=\"\"\n",
    "a=0\n",
    "while a<len(string):\n",
    "    e_str=string[a]+e_str\n",
    "    a=a+1\n",
    "print(e_str)"
   ]
  },
  {
   "cell_type": "code",
   "execution_count": 2,
   "id": "33853625",
   "metadata": {},
   "outputs": [
    {
     "name": "stdout",
     "output_type": "stream",
     "text": [
      "0\n",
      "1\n",
      "2\n"
     ]
    }
   ],
   "source": [
    "a=0\n",
    "while a<10:\n",
    "    if a==3:\n",
    "        break\n",
    "    else:\n",
    "        print(f'{a}')\n",
    "        a+=1"
   ]
  },
  {
   "cell_type": "code",
   "execution_count": 3,
   "id": "7cd5ed7b",
   "metadata": {},
   "outputs": [
    {
     "name": "stdout",
     "output_type": "stream",
     "text": [
      "0\n",
      "1\n",
      "2\n",
      "4\n",
      "5\n",
      "6\n",
      "7\n",
      "8\n",
      "9\n"
     ]
    }
   ],
   "source": [
    "a=0\n",
    "while a<10:\n",
    "    if a==3:\n",
    "        a+=1\n",
    "        continue\n",
    "    else:\n",
    "        print(f'{a}')\n",
    "        a+=1"
   ]
  },
  {
   "cell_type": "markdown",
   "id": "f6d178c4",
   "metadata": {},
   "source": [
    "5. Check for Prime Number (For Loop)\n",
    "Write a Python program that checks if a given number is prime or not using a for loop. Example: Input: 7 Output: \"7 is a prime number.\""
   ]
  },
  {
   "cell_type": "code",
   "execution_count": null,
   "id": "1bda7da6",
   "metadata": {},
   "outputs": [],
   "source": []
  }
 ],
 "metadata": {
  "kernelspec": {
   "display_name": "Python 3 (ipykernel)",
   "language": "python",
   "name": "python3"
  },
  "language_info": {
   "codemirror_mode": {
    "name": "ipython",
    "version": 3
   },
   "file_extension": ".py",
   "mimetype": "text/x-python",
   "name": "python",
   "nbconvert_exporter": "python",
   "pygments_lexer": "ipython3",
   "version": "3.10.9"
  }
 },
 "nbformat": 4,
 "nbformat_minor": 5
}
